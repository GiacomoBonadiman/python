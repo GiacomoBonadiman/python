{
 "cells": [
  {
   "cell_type": "code",
   "execution_count": 1,
   "id": "2cc6cd75",
   "metadata": {
    "execution": {
     "iopub.execute_input": "2024-02-01T05:43:16.897765Z",
     "iopub.status.busy": "2024-02-01T05:43:16.897363Z",
     "iopub.status.idle": "2024-02-01T05:43:19.548171Z",
     "shell.execute_reply": "2024-02-01T05:43:19.547143Z"
    },
    "papermill": {
     "duration": 2.661995,
     "end_time": "2024-02-01T05:43:19.550841",
     "exception": false,
     "start_time": "2024-02-01T05:43:16.888846",
     "status": "completed"
    },
    "tags": []
   },
   "outputs": [],
   "source": [
    "import numpy as np\n",
    "import pandas as pd\n",
    "import matplotlib.pyplot as plt\n",
    "import seaborn as sns"
   ]
  },
  {
   "cell_type": "code",
   "execution_count": 2,
   "id": "5bd82fbe",
   "metadata": {
    "execution": {
     "iopub.execute_input": "2024-02-01T05:43:19.567269Z",
     "iopub.status.busy": "2024-02-01T05:43:19.566110Z",
     "iopub.status.idle": "2024-02-01T05:43:19.660640Z",
     "shell.execute_reply": "2024-02-01T05:43:19.659327Z"
    },
    "papermill": {
     "duration": 0.105974,
     "end_time": "2024-02-01T05:43:19.663493",
     "exception": false,
     "start_time": "2024-02-01T05:43:19.557519",
     "status": "completed"
    },
    "tags": []
   },
   "outputs": [
    {
     "data": {
      "text/html": [
       "<div>\n",
       "<style scoped>\n",
       "    .dataframe tbody tr th:only-of-type {\n",
       "        vertical-align: middle;\n",
       "    }\n",
       "\n",
       "    .dataframe tbody tr th {\n",
       "        vertical-align: top;\n",
       "    }\n",
       "\n",
       "    .dataframe thead th {\n",
       "        text-align: right;\n",
       "    }\n",
       "</style>\n",
       "<table border=\"1\" class=\"dataframe\">\n",
       "  <thead>\n",
       "    <tr style=\"text-align: right;\">\n",
       "      <th></th>\n",
       "      <th>ID</th>\n",
       "      <th>AGE</th>\n",
       "      <th>GENDER</th>\n",
       "      <th>DRIVING_EXPERIENCE</th>\n",
       "      <th>EDUCATION</th>\n",
       "      <th>INCOME</th>\n",
       "      <th>CREDIT_SCORE</th>\n",
       "      <th>VEHICLE_OWNERSHIP</th>\n",
       "      <th>MARRIED</th>\n",
       "      <th>CHILDREN</th>\n",
       "      <th>POSTAL_CODE</th>\n",
       "      <th>ANNUAL_MILEAGE</th>\n",
       "      <th>VEHICLE_TYPE</th>\n",
       "      <th>SPEEDING_VIOLATIONS</th>\n",
       "      <th>DUIS</th>\n",
       "      <th>PAST_ACCIDENTS</th>\n",
       "      <th>OUTCOME</th>\n",
       "    </tr>\n",
       "  </thead>\n",
       "  <tbody>\n",
       "    <tr>\n",
       "      <th>0</th>\n",
       "      <td>569520</td>\n",
       "      <td>65+</td>\n",
       "      <td>female</td>\n",
       "      <td>0-9y</td>\n",
       "      <td>high school</td>\n",
       "      <td>upper class</td>\n",
       "      <td>0.629027</td>\n",
       "      <td>1</td>\n",
       "      <td>0</td>\n",
       "      <td>1</td>\n",
       "      <td>10238</td>\n",
       "      <td>12000.0</td>\n",
       "      <td>sedan</td>\n",
       "      <td>0</td>\n",
       "      <td>0</td>\n",
       "      <td>0</td>\n",
       "      <td>0</td>\n",
       "    </tr>\n",
       "    <tr>\n",
       "      <th>1</th>\n",
       "      <td>750365</td>\n",
       "      <td>16-25</td>\n",
       "      <td>male</td>\n",
       "      <td>0-9y</td>\n",
       "      <td>none</td>\n",
       "      <td>poverty</td>\n",
       "      <td>0.357757</td>\n",
       "      <td>0</td>\n",
       "      <td>0</td>\n",
       "      <td>0</td>\n",
       "      <td>10238</td>\n",
       "      <td>16000.0</td>\n",
       "      <td>sedan</td>\n",
       "      <td>0</td>\n",
       "      <td>0</td>\n",
       "      <td>0</td>\n",
       "      <td>1</td>\n",
       "    </tr>\n",
       "    <tr>\n",
       "      <th>2</th>\n",
       "      <td>199901</td>\n",
       "      <td>16-25</td>\n",
       "      <td>female</td>\n",
       "      <td>0-9y</td>\n",
       "      <td>high school</td>\n",
       "      <td>working class</td>\n",
       "      <td>0.493146</td>\n",
       "      <td>1</td>\n",
       "      <td>0</td>\n",
       "      <td>0</td>\n",
       "      <td>10238</td>\n",
       "      <td>11000.0</td>\n",
       "      <td>sedan</td>\n",
       "      <td>0</td>\n",
       "      <td>0</td>\n",
       "      <td>0</td>\n",
       "      <td>0</td>\n",
       "    </tr>\n",
       "    <tr>\n",
       "      <th>3</th>\n",
       "      <td>478866</td>\n",
       "      <td>16-25</td>\n",
       "      <td>male</td>\n",
       "      <td>0-9y</td>\n",
       "      <td>university</td>\n",
       "      <td>working class</td>\n",
       "      <td>0.206013</td>\n",
       "      <td>1</td>\n",
       "      <td>0</td>\n",
       "      <td>1</td>\n",
       "      <td>32765</td>\n",
       "      <td>11000.0</td>\n",
       "      <td>sedan</td>\n",
       "      <td>0</td>\n",
       "      <td>0</td>\n",
       "      <td>0</td>\n",
       "      <td>0</td>\n",
       "    </tr>\n",
       "    <tr>\n",
       "      <th>4</th>\n",
       "      <td>731664</td>\n",
       "      <td>26-39</td>\n",
       "      <td>male</td>\n",
       "      <td>10-19y</td>\n",
       "      <td>none</td>\n",
       "      <td>working class</td>\n",
       "      <td>0.388366</td>\n",
       "      <td>1</td>\n",
       "      <td>0</td>\n",
       "      <td>0</td>\n",
       "      <td>32765</td>\n",
       "      <td>12000.0</td>\n",
       "      <td>sedan</td>\n",
       "      <td>2</td>\n",
       "      <td>0</td>\n",
       "      <td>1</td>\n",
       "      <td>1</td>\n",
       "    </tr>\n",
       "    <tr>\n",
       "      <th>...</th>\n",
       "      <td>...</td>\n",
       "      <td>...</td>\n",
       "      <td>...</td>\n",
       "      <td>...</td>\n",
       "      <td>...</td>\n",
       "      <td>...</td>\n",
       "      <td>...</td>\n",
       "      <td>...</td>\n",
       "      <td>...</td>\n",
       "      <td>...</td>\n",
       "      <td>...</td>\n",
       "      <td>...</td>\n",
       "      <td>...</td>\n",
       "      <td>...</td>\n",
       "      <td>...</td>\n",
       "      <td>...</td>\n",
       "      <td>...</td>\n",
       "    </tr>\n",
       "    <tr>\n",
       "      <th>9995</th>\n",
       "      <td>323164</td>\n",
       "      <td>26-39</td>\n",
       "      <td>female</td>\n",
       "      <td>10-19y</td>\n",
       "      <td>university</td>\n",
       "      <td>upper class</td>\n",
       "      <td>0.582787</td>\n",
       "      <td>1</td>\n",
       "      <td>0</td>\n",
       "      <td>0</td>\n",
       "      <td>10238</td>\n",
       "      <td>16000.0</td>\n",
       "      <td>sedan</td>\n",
       "      <td>0</td>\n",
       "      <td>0</td>\n",
       "      <td>1</td>\n",
       "      <td>0</td>\n",
       "    </tr>\n",
       "    <tr>\n",
       "      <th>9996</th>\n",
       "      <td>910346</td>\n",
       "      <td>26-39</td>\n",
       "      <td>female</td>\n",
       "      <td>10-19y</td>\n",
       "      <td>none</td>\n",
       "      <td>middle class</td>\n",
       "      <td>0.522231</td>\n",
       "      <td>1</td>\n",
       "      <td>0</td>\n",
       "      <td>1</td>\n",
       "      <td>32765</td>\n",
       "      <td>NaN</td>\n",
       "      <td>sedan</td>\n",
       "      <td>1</td>\n",
       "      <td>0</td>\n",
       "      <td>0</td>\n",
       "      <td>0</td>\n",
       "    </tr>\n",
       "    <tr>\n",
       "      <th>9997</th>\n",
       "      <td>468409</td>\n",
       "      <td>26-39</td>\n",
       "      <td>male</td>\n",
       "      <td>0-9y</td>\n",
       "      <td>high school</td>\n",
       "      <td>middle class</td>\n",
       "      <td>0.470940</td>\n",
       "      <td>1</td>\n",
       "      <td>0</td>\n",
       "      <td>1</td>\n",
       "      <td>10238</td>\n",
       "      <td>14000.0</td>\n",
       "      <td>sedan</td>\n",
       "      <td>0</td>\n",
       "      <td>0</td>\n",
       "      <td>0</td>\n",
       "      <td>0</td>\n",
       "    </tr>\n",
       "    <tr>\n",
       "      <th>9998</th>\n",
       "      <td>903459</td>\n",
       "      <td>26-39</td>\n",
       "      <td>female</td>\n",
       "      <td>10-19y</td>\n",
       "      <td>high school</td>\n",
       "      <td>poverty</td>\n",
       "      <td>0.364185</td>\n",
       "      <td>0</td>\n",
       "      <td>0</td>\n",
       "      <td>1</td>\n",
       "      <td>10238</td>\n",
       "      <td>13000.0</td>\n",
       "      <td>sedan</td>\n",
       "      <td>2</td>\n",
       "      <td>0</td>\n",
       "      <td>1</td>\n",
       "      <td>1</td>\n",
       "    </tr>\n",
       "    <tr>\n",
       "      <th>9999</th>\n",
       "      <td>442696</td>\n",
       "      <td>26-39</td>\n",
       "      <td>female</td>\n",
       "      <td>0-9y</td>\n",
       "      <td>none</td>\n",
       "      <td>working class</td>\n",
       "      <td>0.435225</td>\n",
       "      <td>1</td>\n",
       "      <td>1</td>\n",
       "      <td>1</td>\n",
       "      <td>10238</td>\n",
       "      <td>13000.0</td>\n",
       "      <td>sedan</td>\n",
       "      <td>0</td>\n",
       "      <td>0</td>\n",
       "      <td>0</td>\n",
       "      <td>0</td>\n",
       "    </tr>\n",
       "  </tbody>\n",
       "</table>\n",
       "<p>10000 rows × 17 columns</p>\n",
       "</div>"
      ],
      "text/plain": [
       "          ID    AGE  GENDER DRIVING_EXPERIENCE    EDUCATION         INCOME  \\\n",
       "0     569520    65+  female               0-9y  high school    upper class   \n",
       "1     750365  16-25    male               0-9y         none        poverty   \n",
       "2     199901  16-25  female               0-9y  high school  working class   \n",
       "3     478866  16-25    male               0-9y   university  working class   \n",
       "4     731664  26-39    male             10-19y         none  working class   \n",
       "...      ...    ...     ...                ...          ...            ...   \n",
       "9995  323164  26-39  female             10-19y   university    upper class   \n",
       "9996  910346  26-39  female             10-19y         none   middle class   \n",
       "9997  468409  26-39    male               0-9y  high school   middle class   \n",
       "9998  903459  26-39  female             10-19y  high school        poverty   \n",
       "9999  442696  26-39  female               0-9y         none  working class   \n",
       "\n",
       "      CREDIT_SCORE  VEHICLE_OWNERSHIP  MARRIED  CHILDREN  POSTAL_CODE  \\\n",
       "0         0.629027                  1        0         1        10238   \n",
       "1         0.357757                  0        0         0        10238   \n",
       "2         0.493146                  1        0         0        10238   \n",
       "3         0.206013                  1        0         1        32765   \n",
       "4         0.388366                  1        0         0        32765   \n",
       "...            ...                ...      ...       ...          ...   \n",
       "9995      0.582787                  1        0         0        10238   \n",
       "9996      0.522231                  1        0         1        32765   \n",
       "9997      0.470940                  1        0         1        10238   \n",
       "9998      0.364185                  0        0         1        10238   \n",
       "9999      0.435225                  1        1         1        10238   \n",
       "\n",
       "      ANNUAL_MILEAGE VEHICLE_TYPE  SPEEDING_VIOLATIONS  DUIS  PAST_ACCIDENTS  \\\n",
       "0            12000.0        sedan                    0     0               0   \n",
       "1            16000.0        sedan                    0     0               0   \n",
       "2            11000.0        sedan                    0     0               0   \n",
       "3            11000.0        sedan                    0     0               0   \n",
       "4            12000.0        sedan                    2     0               1   \n",
       "...              ...          ...                  ...   ...             ...   \n",
       "9995         16000.0        sedan                    0     0               1   \n",
       "9996             NaN        sedan                    1     0               0   \n",
       "9997         14000.0        sedan                    0     0               0   \n",
       "9998         13000.0        sedan                    2     0               1   \n",
       "9999         13000.0        sedan                    0     0               0   \n",
       "\n",
       "      OUTCOME  \n",
       "0           0  \n",
       "1           1  \n",
       "2           0  \n",
       "3           0  \n",
       "4           1  \n",
       "...       ...  \n",
       "9995        0  \n",
       "9996        0  \n",
       "9997        0  \n",
       "9998        1  \n",
       "9999        0  \n",
       "\n",
       "[10000 rows x 17 columns]"
      ]
     },
     "execution_count": 2,
     "metadata": {},
     "output_type": "execute_result"
    }
   ],
   "source": [
    "df = pd.read_csv('car_insurance.csv')\n",
    "df"
   ]
  },
  {
   "cell_type": "code",
   "execution_count": 3,
   "id": "394bf617",
   "metadata": {
    "execution": {
     "iopub.execute_input": "2024-02-01T05:43:19.679706Z",
     "iopub.status.busy": "2024-02-01T05:43:19.679260Z",
     "iopub.status.idle": "2024-02-01T05:43:19.689133Z",
     "shell.execute_reply": "2024-02-01T05:43:19.687984Z"
    },
    "papermill": {
     "duration": 0.021088,
     "end_time": "2024-02-01T05:43:19.691725",
     "exception": false,
     "start_time": "2024-02-01T05:43:19.670637",
     "status": "completed"
    },
    "tags": []
   },
   "outputs": [
    {
     "data": {
      "text/plain": [
       "ID                       int64\n",
       "AGE                     object\n",
       "GENDER                  object\n",
       "DRIVING_EXPERIENCE      object\n",
       "EDUCATION               object\n",
       "INCOME                  object\n",
       "CREDIT_SCORE           float64\n",
       "VEHICLE_OWNERSHIP        int64\n",
       "MARRIED                  int64\n",
       "CHILDREN                 int64\n",
       "POSTAL_CODE              int64\n",
       "ANNUAL_MILEAGE         float64\n",
       "VEHICLE_TYPE            object\n",
       "SPEEDING_VIOLATIONS      int64\n",
       "DUIS                     int64\n",
       "PAST_ACCIDENTS           int64\n",
       "OUTCOME                  int64\n",
       "dtype: object"
      ]
     },
     "execution_count": 3,
     "metadata": {},
     "output_type": "execute_result"
    }
   ],
   "source": [
    "df.dtypes"
   ]
  },
  {
   "cell_type": "markdown",
   "id": "b24cdb0f",
   "metadata": {
    "papermill": {
     "duration": 0.007009,
     "end_time": "2024-02-01T05:43:19.706065",
     "exception": false,
     "start_time": "2024-02-01T05:43:19.699056",
     "status": "completed"
    },
    "tags": []
   },
   "source": [
    "# Data Cleaning"
   ]
  },
  {
   "cell_type": "code",
   "execution_count": 4,
   "id": "86b475b9",
   "metadata": {
    "execution": {
     "iopub.execute_input": "2024-02-01T05:43:19.722941Z",
     "iopub.status.busy": "2024-02-01T05:43:19.722479Z",
     "iopub.status.idle": "2024-02-01T05:43:19.741852Z",
     "shell.execute_reply": "2024-02-01T05:43:19.740687Z"
    },
    "papermill": {
     "duration": 0.032343,
     "end_time": "2024-02-01T05:43:19.745754",
     "exception": false,
     "start_time": "2024-02-01T05:43:19.713411",
     "status": "completed"
    },
    "tags": []
   },
   "outputs": [
    {
     "name": "stdout",
     "output_type": "stream",
     "text": [
      "NA counts:\n",
      "ID                       0\n",
      "AGE                      0\n",
      "GENDER                   0\n",
      "DRIVING_EXPERIENCE       0\n",
      "EDUCATION                0\n",
      "INCOME                   0\n",
      "CREDIT_SCORE           982\n",
      "VEHICLE_OWNERSHIP        0\n",
      "MARRIED                  0\n",
      "CHILDREN                 0\n",
      "POSTAL_CODE              0\n",
      "ANNUAL_MILEAGE         957\n",
      "VEHICLE_TYPE             0\n",
      "SPEEDING_VIOLATIONS      0\n",
      "DUIS                     0\n",
      "PAST_ACCIDENTS           0\n",
      "OUTCOME                  0\n",
      "dtype: int64\n"
     ]
    }
   ],
   "source": [
    "# Check NA \n",
    "missing_values = df.isna().sum()\n",
    "print(\"NA counts:\")\n",
    "print(missing_values)"
   ]
  },
  {
   "cell_type": "code",
   "execution_count": 5,
   "id": "c4b0c2cf",
   "metadata": {
    "execution": {
     "iopub.execute_input": "2024-02-01T05:43:19.764015Z",
     "iopub.status.busy": "2024-02-01T05:43:19.763549Z",
     "iopub.status.idle": "2024-02-01T05:43:20.496558Z",
     "shell.execute_reply": "2024-02-01T05:43:20.495620Z"
    },
    "papermill": {
     "duration": 0.744755,
     "end_time": "2024-02-01T05:43:20.499076",
     "exception": false,
     "start_time": "2024-02-01T05:43:19.754321",
     "status": "completed"
    },
    "tags": []
   },
   "outputs": [
    {
     "data": {
      "text/plain": [
       "<Axes: xlabel='CREDIT_SCORE', ylabel='Count'>"
      ]
     },
     "execution_count": 5,
     "metadata": {},
     "output_type": "execute_result"
    },
    {
     "data": {
      "image/png": "[encoded data removed]",
      "text/plain": [
       "<Figure size 1500x1000 with 1 Axes>"
      ]
     },
     "metadata": {},
     "output_type": "display_data"
    }
   ],
   "source": [
    "# CREDIT_SCORE\n",
    "plt.figure(figsize=(15,10))\n",
    "sns.histplot(df['CREDIT_SCORE'], kde=1)"
   ]
  },
  {
   "cell_type": "code",
   "execution_count": 6,
   "id": "8a1d065a",
   "metadata": {
    "execution": {
     "iopub.execute_input": "2024-02-01T05:43:20.519334Z",
     "iopub.status.busy": "2024-02-01T05:43:20.518937Z",
     "iopub.status.idle": "2024-02-01T05:43:20.525422Z",
     "shell.execute_reply": "2024-02-01T05:43:20.524244Z"
    },
    "papermill": {
     "duration": 0.019722,
     "end_time": "2024-02-01T05:43:20.528060",
     "exception": false,
     "start_time": "2024-02-01T05:43:20.508338",
     "status": "completed"
    },
    "tags": []
   },
   "outputs": [],
   "source": [
    "# Replace missing values\n",
    "df['CREDIT_SCORE'] = df['CREDIT_SCORE'].fillna(df['CREDIT_SCORE'].mean())"
   ]
  },
  {
   "cell_type": "code",
   "execution_count": 7,
   "id": "ea3ac4f8",
   "metadata": {
    "execution": {
     "iopub.execute_input": "2024-02-01T05:43:20.547888Z",
     "iopub.status.busy": "2024-02-01T05:43:20.547471Z",
     "iopub.status.idle": "2024-02-01T05:43:21.114920Z",
     "shell.execute_reply": "2024-02-01T05:43:21.113541Z"
    },
    "papermill": {
     "duration": 0.580688,
     "end_time": "2024-02-01T05:43:21.117563",
     "exception": false,
     "start_time": "2024-02-01T05:43:20.536875",
     "status": "completed"
    },
    "tags": []
   },
   "outputs": [
    {
     "data": {
      "text/plain": [
       "<Axes: xlabel='ANNUAL_MILEAGE', ylabel='Count'>"
      ]
     },
     "execution_count": 7,
     "metadata": {},
     "output_type": "execute_result"
    },
    {
     "data": {
      "image/png": "[encoded data removed]",
      "text/plain": [
       "<Figure size 1500x1000 with 1 Axes>"
      ]
     },
     "metadata": {},
     "output_type": "display_data"
    }
   ],
   "source": [
    "# ANNUAL_MILEAGE\n",
    "plt.figure(figsize=(15,10))\n",
    "sns.histplot(df['ANNUAL_MILEAGE'], kde=1)"
   ]
  },
  {
   "cell_type": "code",
   "execution_count": 8,
   "id": "cf0d7767",
   "metadata": {
    "execution": {
     "iopub.execute_input": "2024-02-01T05:43:21.139918Z",
     "iopub.status.busy": "2024-02-01T05:43:21.138960Z",
     "iopub.status.idle": "2024-02-01T05:43:21.146544Z",
     "shell.execute_reply": "2024-02-01T05:43:21.145576Z"
    },
    "papermill": {
     "duration": 0.021383,
     "end_time": "2024-02-01T05:43:21.149018",
     "exception": false,
     "start_time": "2024-02-01T05:43:21.127635",
     "status": "completed"
    },
    "tags": []
   },
   "outputs": [],
   "source": [
    "# Replace missing values\n",
    "df['ANNUAL_MILEAGE'] = df['ANNUAL_MILEAGE'].fillna(df['ANNUAL_MILEAGE'].median())"
   ]
  },
  {
   "cell_type": "code",
   "execution_count": 9,
   "id": "b14c0cd4",
   "metadata": {
    "execution": {
     "iopub.execute_input": "2024-02-01T05:43:21.171703Z",
     "iopub.status.busy": "2024-02-01T05:43:21.171042Z",
     "iopub.status.idle": "2024-02-01T05:43:21.185483Z",
     "shell.execute_reply": "2024-02-01T05:43:21.184080Z"
    },
    "papermill": {
     "duration": 0.028694,
     "end_time": "2024-02-01T05:43:21.188128",
     "exception": false,
     "start_time": "2024-02-01T05:43:21.159434",
     "status": "completed"
    },
    "tags": []
   },
   "outputs": [
    {
     "name": "stdout",
     "output_type": "stream",
     "text": [
      "NA counts:\n",
      "ID                     0\n",
      "AGE                    0\n",
      "GENDER                 0\n",
      "DRIVING_EXPERIENCE     0\n",
      "EDUCATION              0\n",
      "INCOME                 0\n",
      "CREDIT_SCORE           0\n",
      "VEHICLE_OWNERSHIP      0\n",
      "MARRIED                0\n",
      "CHILDREN               0\n",
      "POSTAL_CODE            0\n",
      "ANNUAL_MILEAGE         0\n",
      "VEHICLE_TYPE           0\n",
      "SPEEDING_VIOLATIONS    0\n",
      "DUIS                   0\n",
      "PAST_ACCIDENTS         0\n",
      "OUTCOME                0\n",
      "dtype: int64\n"
     ]
    }
   ],
   "source": [
    "# Verification\n",
    "missing_values = df.isna().sum()\n",
    "print(\"NA counts:\")\n",
    "print(missing_values)"
   ]
  },
  {
   "cell_type": "code",
   "execution_count": 10,
   "id": "22d14720",
   "metadata": {
    "execution": {
     "iopub.execute_input": "2024-02-01T05:43:21.210738Z",
     "iopub.status.busy": "2024-02-01T05:43:21.210158Z",
     "iopub.status.idle": "2024-02-01T05:43:21.226073Z",
     "shell.execute_reply": "2024-02-01T05:43:21.224862Z"
    },
    "papermill": {
     "duration": 0.030383,
     "end_time": "2024-02-01T05:43:21.228772",
     "exception": false,
     "start_time": "2024-02-01T05:43:21.198389",
     "status": "completed"
    },
    "tags": []
   },
   "outputs": [
    {
     "name": "stdout",
     "output_type": "stream",
     "text": [
      "ID\n",
      "569520    1\n",
      "702473    1\n",
      "426507    1\n",
      "386239    1\n",
      "454670    1\n",
      "         ..\n",
      "931908    1\n",
      "672440    1\n",
      "297005    1\n",
      "559584    1\n",
      "442696    1\n",
      "Name: count, Length: 10000, dtype: int64\n"
     ]
    }
   ],
   "source": [
    "# Check unused columns\n",
    "print(df['ID'].value_counts(dropna=False))\n",
    "\n",
    "df = df.drop(['ID'], axis=1)"
   ]
  },
  {
   "cell_type": "code",
   "execution_count": 11,
   "id": "46d81ba9",
   "metadata": {
    "execution": {
     "iopub.execute_input": "2024-02-01T05:43:21.252378Z",
     "iopub.status.busy": "2024-02-01T05:43:21.251755Z",
     "iopub.status.idle": "2024-02-01T05:43:21.322136Z",
     "shell.execute_reply": "2024-02-01T05:43:21.319894Z"
    },
    "papermill": {
     "duration": 0.086194,
     "end_time": "2024-02-01T05:43:21.325960",
     "exception": false,
     "start_time": "2024-02-01T05:43:21.239766",
     "status": "completed"
    },
    "tags": []
   },
   "outputs": [
    {
     "name": "stdout",
     "output_type": "stream",
     "text": [
      "AGE\n",
      "26-39    3063\n",
      "40-64    2931\n",
      "16-25    2016\n",
      "65+      1990\n",
      "Name: count, dtype: int64 \n",
      "\n",
      "GENDER\n",
      "female    5010\n",
      "male      4990\n",
      "Name: count, dtype: int64 \n",
      "\n",
      "DRIVING_EXPERIENCE\n",
      "0-9y      3530\n",
      "10-19y    3299\n",
      "20-29y    2119\n",
      "30y+      1052\n",
      "Name: count, dtype: int64 \n",
      "\n",
      "EDUCATION\n",
      "high school    4157\n",
      "university     3928\n",
      "none           1915\n",
      "Name: count, dtype: int64 \n",
      "\n",
      "INCOME\n",
      "upper class      4336\n",
      "middle class     2138\n",
      "poverty          1814\n",
      "working class    1712\n",
      "Name: count, dtype: int64 \n",
      "\n",
      "VEHICLE_TYPE\n",
      "sedan         9523\n",
      "sports car     477\n",
      "Name: count, dtype: int64\n"
     ]
    }
   ],
   "source": [
    "# Encoding\n",
    "print(df['AGE'].value_counts(dropna=False), '\\n')\n",
    "print(df['GENDER'].value_counts(dropna=False), '\\n')\n",
    "print(df['DRIVING_EXPERIENCE'].value_counts(dropna=False), '\\n')\n",
    "print(df['EDUCATION'].value_counts(dropna=False), '\\n')\n",
    "print(df['INCOME'].value_counts(dropna=False), '\\n')\n",
    "print(df['VEHICLE_TYPE'].value_counts(dropna=False))\n",
    "\n",
    "# Numerical Encoding\n",
    "age_mapping = {'16-25': 0, '26-39': 1, '40-64': 2, '65+': 3}\n",
    "df['AGE'].replace(age_mapping, inplace=True)\n",
    "\n",
    "driving_mapping = {'0-9y': 0, '10-19y': 1, '20-29y': 2, '30y+': 3}\n",
    "df['DRIVING_EXPERIENCE'].replace(driving_mapping, inplace=True)\n",
    "\n",
    "education_mapping = {'none': 0, 'high school': 1, 'university': 2}\n",
    "df['EDUCATION'].replace(education_mapping, inplace=True)\n",
    "\n",
    "income_mapping = {'poverty': 0, 'working class': 1, 'middle class': 2, 'upper class': 3}\n",
    "df['INCOME'].replace(income_mapping, inplace=True)\n",
    "\n",
    "# One-hot Encoding\n",
    "df = pd.get_dummies(df, columns=['GENDER', 'VEHICLE_TYPE'], drop_first=False)"
   ]
  },
  {
   "cell_type": "markdown",
   "id": "767aa33f",
   "metadata": {
    "papermill": {
     "duration": 0.011792,
     "end_time": "2024-02-01T05:43:21.348889",
     "exception": false,
     "start_time": "2024-02-01T05:43:21.337097",
     "status": "completed"
    },
    "tags": []
   },
   "source": [
    "# Modeling"
   ]
  },
  {
   "cell_type": "code",
   "execution_count": 12,
   "id": "1753d7d7",
   "metadata": {
    "execution": {
     "iopub.execute_input": "2024-02-01T05:43:21.372393Z",
     "iopub.status.busy": "2024-02-01T05:43:21.371888Z",
     "iopub.status.idle": "2024-02-01T05:43:21.380617Z",
     "shell.execute_reply": "2024-02-01T05:43:21.379067Z"
    },
    "papermill": {
     "duration": 0.023924,
     "end_time": "2024-02-01T05:43:21.383535",
     "exception": false,
     "start_time": "2024-02-01T05:43:21.359611",
     "status": "completed"
    },
    "scrolled": true,
    "tags": []
   },
   "outputs": [
    {
     "name": "stdout",
     "output_type": "stream",
     "text": [
      "OUTCOME\n",
      "0    6867\n",
      "1    3133\n",
      "Name: count, dtype: int64\n"
     ]
    }
   ],
   "source": [
    "print(df['OUTCOME'].value_counts(dropna=False))"
   ]
  },
  {
   "cell_type": "code",
   "execution_count": 13,
   "id": "a87e00e5",
   "metadata": {
    "execution": {
     "iopub.execute_input": "2024-02-01T05:43:21.407264Z",
     "iopub.status.busy": "2024-02-01T05:43:21.406894Z",
     "iopub.status.idle": "2024-02-01T05:43:21.733760Z",
     "shell.execute_reply": "2024-02-01T05:43:21.732564Z"
    },
    "papermill": {
     "duration": 0.342706,
     "end_time": "2024-02-01T05:43:21.737229",
     "exception": false,
     "start_time": "2024-02-01T05:43:21.394523",
     "status": "completed"
    },
    "tags": []
   },
   "outputs": [
    {
     "data": {
      "text/html": [
       "<div>\n",
       "<style scoped>\n",
       "    .dataframe tbody tr th:only-of-type {\n",
       "        vertical-align: middle;\n",
       "    }\n",
       "\n",
       "    .dataframe tbody tr th {\n",
       "        vertical-align: top;\n",
       "    }\n",
       "\n",
       "    .dataframe thead th {\n",
       "        text-align: right;\n",
       "    }\n",
       "</style>\n",
       "<table border=\"1\" class=\"dataframe\">\n",
       "  <thead>\n",
       "    <tr style=\"text-align: right;\">\n",
       "      <th></th>\n",
       "      <th>AGE</th>\n",
       "      <th>DRIVING_EXPERIENCE</th>\n",
       "      <th>EDUCATION</th>\n",
       "      <th>INCOME</th>\n",
       "      <th>CREDIT_SCORE</th>\n",
       "      <th>VEHICLE_OWNERSHIP</th>\n",
       "      <th>MARRIED</th>\n",
       "      <th>CHILDREN</th>\n",
       "      <th>POSTAL_CODE</th>\n",
       "      <th>ANNUAL_MILEAGE</th>\n",
       "      <th>SPEEDING_VIOLATIONS</th>\n",
       "      <th>DUIS</th>\n",
       "      <th>PAST_ACCIDENTS</th>\n",
       "      <th>OUTCOME</th>\n",
       "      <th>GENDER_female</th>\n",
       "      <th>GENDER_male</th>\n",
       "      <th>VEHICLE_TYPE_sedan</th>\n",
       "      <th>VEHICLE_TYPE_sports car</th>\n",
       "    </tr>\n",
       "  </thead>\n",
       "  <tbody>\n",
       "    <tr>\n",
       "      <th>0</th>\n",
       "      <td>1.473333</td>\n",
       "      <td>-1.079662</td>\n",
       "      <td>-0.272981</td>\n",
       "      <td>0.957659</td>\n",
       "      <td>0.865914</td>\n",
       "      <td>1</td>\n",
       "      <td>0</td>\n",
       "      <td>1</td>\n",
       "      <td>-0.508946</td>\n",
       "      <td>0.102181</td>\n",
       "      <td>-0.661462</td>\n",
       "      <td>-0.43102</td>\n",
       "      <td>-0.639263</td>\n",
       "      <td>0</td>\n",
       "      <td>True</td>\n",
       "      <td>False</td>\n",
       "      <td>True</td>\n",
       "      <td>False</td>\n",
       "    </tr>\n",
       "    <tr>\n",
       "      <th>1</th>\n",
       "      <td>-1.452849</td>\n",
       "      <td>-1.079662</td>\n",
       "      <td>-1.629073</td>\n",
       "      <td>-1.653189</td>\n",
       "      <td>-1.208879</td>\n",
       "      <td>0</td>\n",
       "      <td>0</td>\n",
       "      <td>0</td>\n",
       "      <td>-0.508946</td>\n",
       "      <td>1.593875</td>\n",
       "      <td>-0.661462</td>\n",
       "      <td>-0.43102</td>\n",
       "      <td>-0.639263</td>\n",
       "      <td>1</td>\n",
       "      <td>False</td>\n",
       "      <td>True</td>\n",
       "      <td>True</td>\n",
       "      <td>False</td>\n",
       "    </tr>\n",
       "    <tr>\n",
       "      <th>2</th>\n",
       "      <td>-1.452849</td>\n",
       "      <td>-1.079662</td>\n",
       "      <td>-0.272981</td>\n",
       "      <td>-0.782906</td>\n",
       "      <td>-0.173367</td>\n",
       "      <td>1</td>\n",
       "      <td>0</td>\n",
       "      <td>0</td>\n",
       "      <td>-0.508946</td>\n",
       "      <td>-0.270742</td>\n",
       "      <td>-0.661462</td>\n",
       "      <td>-0.43102</td>\n",
       "      <td>-0.639263</td>\n",
       "      <td>0</td>\n",
       "      <td>True</td>\n",
       "      <td>False</td>\n",
       "      <td>True</td>\n",
       "      <td>False</td>\n",
       "    </tr>\n",
       "    <tr>\n",
       "      <th>3</th>\n",
       "      <td>-1.452849</td>\n",
       "      <td>-1.079662</td>\n",
       "      <td>1.083110</td>\n",
       "      <td>-0.782906</td>\n",
       "      <td>-2.369485</td>\n",
       "      <td>1</td>\n",
       "      <td>0</td>\n",
       "      <td>1</td>\n",
       "      <td>0.682034</td>\n",
       "      <td>-0.270742</td>\n",
       "      <td>-0.661462</td>\n",
       "      <td>-0.43102</td>\n",
       "      <td>-0.639263</td>\n",
       "      <td>0</td>\n",
       "      <td>False</td>\n",
       "      <td>True</td>\n",
       "      <td>True</td>\n",
       "      <td>False</td>\n",
       "    </tr>\n",
       "    <tr>\n",
       "      <th>4</th>\n",
       "      <td>-0.477455</td>\n",
       "      <td>-0.069972</td>\n",
       "      <td>-1.629073</td>\n",
       "      <td>-0.782906</td>\n",
       "      <td>-0.974770</td>\n",
       "      <td>1</td>\n",
       "      <td>0</td>\n",
       "      <td>0</td>\n",
       "      <td>0.682034</td>\n",
       "      <td>0.102181</td>\n",
       "      <td>0.230657</td>\n",
       "      <td>-0.43102</td>\n",
       "      <td>-0.034072</td>\n",
       "      <td>1</td>\n",
       "      <td>False</td>\n",
       "      <td>True</td>\n",
       "      <td>True</td>\n",
       "      <td>False</td>\n",
       "    </tr>\n",
       "    <tr>\n",
       "      <th>...</th>\n",
       "      <td>...</td>\n",
       "      <td>...</td>\n",
       "      <td>...</td>\n",
       "      <td>...</td>\n",
       "      <td>...</td>\n",
       "      <td>...</td>\n",
       "      <td>...</td>\n",
       "      <td>...</td>\n",
       "      <td>...</td>\n",
       "      <td>...</td>\n",
       "      <td>...</td>\n",
       "      <td>...</td>\n",
       "      <td>...</td>\n",
       "      <td>...</td>\n",
       "      <td>...</td>\n",
       "      <td>...</td>\n",
       "      <td>...</td>\n",
       "      <td>...</td>\n",
       "    </tr>\n",
       "    <tr>\n",
       "      <th>9995</th>\n",
       "      <td>-0.477455</td>\n",
       "      <td>-0.069972</td>\n",
       "      <td>1.083110</td>\n",
       "      <td>0.957659</td>\n",
       "      <td>0.512248</td>\n",
       "      <td>1</td>\n",
       "      <td>0</td>\n",
       "      <td>0</td>\n",
       "      <td>-0.508946</td>\n",
       "      <td>1.593875</td>\n",
       "      <td>-0.661462</td>\n",
       "      <td>-0.43102</td>\n",
       "      <td>-0.034072</td>\n",
       "      <td>0</td>\n",
       "      <td>True</td>\n",
       "      <td>False</td>\n",
       "      <td>True</td>\n",
       "      <td>False</td>\n",
       "    </tr>\n",
       "    <tr>\n",
       "      <th>9996</th>\n",
       "      <td>-0.477455</td>\n",
       "      <td>-0.069972</td>\n",
       "      <td>-1.629073</td>\n",
       "      <td>0.087376</td>\n",
       "      <td>0.049093</td>\n",
       "      <td>1</td>\n",
       "      <td>0</td>\n",
       "      <td>1</td>\n",
       "      <td>0.682034</td>\n",
       "      <td>0.102181</td>\n",
       "      <td>-0.215402</td>\n",
       "      <td>-0.43102</td>\n",
       "      <td>-0.639263</td>\n",
       "      <td>0</td>\n",
       "      <td>True</td>\n",
       "      <td>False</td>\n",
       "      <td>True</td>\n",
       "      <td>False</td>\n",
       "    </tr>\n",
       "    <tr>\n",
       "      <th>9997</th>\n",
       "      <td>-0.477455</td>\n",
       "      <td>-1.079662</td>\n",
       "      <td>-0.272981</td>\n",
       "      <td>0.087376</td>\n",
       "      <td>-0.343205</td>\n",
       "      <td>1</td>\n",
       "      <td>0</td>\n",
       "      <td>1</td>\n",
       "      <td>-0.508946</td>\n",
       "      <td>0.848028</td>\n",
       "      <td>-0.661462</td>\n",
       "      <td>-0.43102</td>\n",
       "      <td>-0.639263</td>\n",
       "      <td>0</td>\n",
       "      <td>False</td>\n",
       "      <td>True</td>\n",
       "      <td>True</td>\n",
       "      <td>False</td>\n",
       "    </tr>\n",
       "    <tr>\n",
       "      <th>9998</th>\n",
       "      <td>-0.477455</td>\n",
       "      <td>-0.069972</td>\n",
       "      <td>-0.272981</td>\n",
       "      <td>-1.653189</td>\n",
       "      <td>-1.159717</td>\n",
       "      <td>0</td>\n",
       "      <td>0</td>\n",
       "      <td>1</td>\n",
       "      <td>-0.508946</td>\n",
       "      <td>0.475105</td>\n",
       "      <td>0.230657</td>\n",
       "      <td>-0.43102</td>\n",
       "      <td>-0.034072</td>\n",
       "      <td>1</td>\n",
       "      <td>True</td>\n",
       "      <td>False</td>\n",
       "      <td>True</td>\n",
       "      <td>False</td>\n",
       "    </tr>\n",
       "    <tr>\n",
       "      <th>9999</th>\n",
       "      <td>-0.477455</td>\n",
       "      <td>-1.079662</td>\n",
       "      <td>-1.629073</td>\n",
       "      <td>-0.782906</td>\n",
       "      <td>-0.616372</td>\n",
       "      <td>1</td>\n",
       "      <td>1</td>\n",
       "      <td>1</td>\n",
       "      <td>-0.508946</td>\n",
       "      <td>0.475105</td>\n",
       "      <td>-0.661462</td>\n",
       "      <td>-0.43102</td>\n",
       "      <td>-0.639263</td>\n",
       "      <td>0</td>\n",
       "      <td>True</td>\n",
       "      <td>False</td>\n",
       "      <td>True</td>\n",
       "      <td>False</td>\n",
       "    </tr>\n",
       "  </tbody>\n",
       "</table>\n",
       "<p>10000 rows × 18 columns</p>\n",
       "</div>"
      ],
      "text/plain": [
       "           AGE  DRIVING_EXPERIENCE  EDUCATION    INCOME  CREDIT_SCORE  \\\n",
       "0     1.473333           -1.079662  -0.272981  0.957659      0.865914   \n",
       "1    -1.452849           -1.079662  -1.629073 -1.653189     -1.208879   \n",
       "2    -1.452849           -1.079662  -0.272981 -0.782906     -0.173367   \n",
       "3    -1.452849           -1.079662   1.083110 -0.782906     -2.369485   \n",
       "4    -0.477455           -0.069972  -1.629073 -0.782906     -0.974770   \n",
       "...        ...                 ...        ...       ...           ...   \n",
       "9995 -0.477455           -0.069972   1.083110  0.957659      0.512248   \n",
       "9996 -0.477455           -0.069972  -1.629073  0.087376      0.049093   \n",
       "9997 -0.477455           -1.079662  -0.272981  0.087376     -0.343205   \n",
       "9998 -0.477455           -0.069972  -0.272981 -1.653189     -1.159717   \n",
       "9999 -0.477455           -1.079662  -1.629073 -0.782906     -0.616372   \n",
       "\n",
       "      VEHICLE_OWNERSHIP  MARRIED  CHILDREN  POSTAL_CODE  ANNUAL_MILEAGE  \\\n",
       "0                     1        0         1    -0.508946        0.102181   \n",
       "1                     0        0         0    -0.508946        1.593875   \n",
       "2                     1        0         0    -0.508946       -0.270742   \n",
       "3                     1        0         1     0.682034       -0.270742   \n",
       "4                     1        0         0     0.682034        0.102181   \n",
       "...                 ...      ...       ...          ...             ...   \n",
       "9995                  1        0         0    -0.508946        1.593875   \n",
       "9996                  1        0         1     0.682034        0.102181   \n",
       "9997                  1        0         1    -0.508946        0.848028   \n",
       "9998                  0        0         1    -0.508946        0.475105   \n",
       "9999                  1        1         1    -0.508946        0.475105   \n",
       "\n",
       "      SPEEDING_VIOLATIONS     DUIS  PAST_ACCIDENTS  OUTCOME  GENDER_female  \\\n",
       "0               -0.661462 -0.43102       -0.639263        0           True   \n",
       "1               -0.661462 -0.43102       -0.639263        1          False   \n",
       "2               -0.661462 -0.43102       -0.639263        0           True   \n",
       "3               -0.661462 -0.43102       -0.639263        0          False   \n",
       "4                0.230657 -0.43102       -0.034072        1          False   \n",
       "...                   ...      ...             ...      ...            ...   \n",
       "9995            -0.661462 -0.43102       -0.034072        0           True   \n",
       "9996            -0.215402 -0.43102       -0.639263        0           True   \n",
       "9997            -0.661462 -0.43102       -0.639263        0          False   \n",
       "9998             0.230657 -0.43102       -0.034072        1           True   \n",
       "9999            -0.661462 -0.43102       -0.639263        0           True   \n",
       "\n",
       "      GENDER_male  VEHICLE_TYPE_sedan  VEHICLE_TYPE_sports car  \n",
       "0           False                True                    False  \n",
       "1            True                True                    False  \n",
       "2           False                True                    False  \n",
       "3            True                True                    False  \n",
       "4            True                True                    False  \n",
       "...           ...                 ...                      ...  \n",
       "9995        False                True                    False  \n",
       "9996        False                True                    False  \n",
       "9997         True                True                    False  \n",
       "9998        False                True                    False  \n",
       "9999        False                True                    False  \n",
       "\n",
       "[10000 rows x 18 columns]"
      ]
     },
     "execution_count": 13,
     "metadata": {},
     "output_type": "execute_result"
    }
   ],
   "source": [
    "from sklearn.preprocessing import StandardScaler\n",
    "from sklearn.model_selection import train_test_split\n",
    "\n",
    "# Standardization\n",
    "columns_to_standardize = ['AGE', 'DRIVING_EXPERIENCE', 'EDUCATION', 'INCOME', 'CREDIT_SCORE', 'POSTAL_CODE', 'ANNUAL_MILEAGE', 'SPEEDING_VIOLATIONS', 'DUIS', 'PAST_ACCIDENTS']\n",
    "\n",
    "scaler = StandardScaler()\n",
    "df[columns_to_standardize] = scaler.fit_transform(df[columns_to_standardize])\n",
    "df"
   ]
  },
  {
   "cell_type": "code",
   "execution_count": 14,
   "id": "8580befe",
   "metadata": {
    "execution": {
     "iopub.execute_input": "2024-02-01T05:43:21.763538Z",
     "iopub.status.busy": "2024-02-01T05:43:21.763099Z",
     "iopub.status.idle": "2024-02-01T05:43:21.785019Z",
     "shell.execute_reply": "2024-02-01T05:43:21.783613Z"
    },
    "papermill": {
     "duration": 0.03906,
     "end_time": "2024-02-01T05:43:21.788300",
     "exception": false,
     "start_time": "2024-02-01T05:43:21.749240",
     "status": "completed"
    },
    "tags": []
   },
   "outputs": [],
   "source": [
    "# Undersampling\n",
    "# Split 1 & 0\n",
    "positive_samples = df[df['OUTCOME'] == 1]\n",
    "negative_samples = df[df['OUTCOME'] == 0]\n",
    "\n",
    "# Randomly pick up same amount of 0\n",
    "minority_count = len(positive_samples) # Count 0\n",
    "negative_samples_undersampled = negative_samples.sample(n=minority_count, random_state=42)\n",
    "\n",
    "# Concat and refresh\n",
    "undersampled_df = pd.concat([positive_samples, negative_samples_undersampled])\n",
    "undersampled_df = undersampled_df.sample(frac=1, random_state=42)\n",
    "\n",
    "# Data split\n",
    "X_undersampled = undersampled_df.drop('OUTCOME', axis=1)\n",
    "y_undersampled = undersampled_df['OUTCOME']\n",
    "\n",
    "from sklearn.model_selection import train_test_split\n",
    "x_train, x_test, y_train, y_test = train_test_split(X_undersampled, y_undersampled, test_size=0.20)"
   ]
  },
  {
   "cell_type": "markdown",
   "id": "717ddd5e",
   "metadata": {
    "papermill": {
     "duration": 0.011535,
     "end_time": "2024-02-01T05:43:21.811705",
     "exception": false,
     "start_time": "2024-02-01T05:43:21.800170",
     "status": "completed"
    },
    "tags": []
   },
   "source": [
    "## Logistic Regression "
   ]
  },
  {
   "cell_type": "code",
   "execution_count": 15,
   "id": "6f7c53af",
   "metadata": {
    "execution": {
     "iopub.execute_input": "2024-02-01T05:43:21.838084Z",
     "iopub.status.busy": "2024-02-01T05:43:21.837652Z",
     "iopub.status.idle": "2024-02-01T05:43:22.052129Z",
     "shell.execute_reply": "2024-02-01T05:43:22.050509Z"
    },
    "papermill": {
     "duration": 0.233547,
     "end_time": "2024-02-01T05:43:22.057193",
     "exception": false,
     "start_time": "2024-02-01T05:43:21.823646",
     "status": "completed"
    },
    "tags": []
   },
   "outputs": [
    {
     "name": "stdout",
     "output_type": "stream",
     "text": [
      "Confusion Matrix:\n",
      "[[485 137]\n",
      " [109 523]]\n",
      "Precision: 0.7924242424242425\n",
      "Recall: 0.8275316455696202\n",
      "Accuracy: 0.8038277511961722\n",
      "              precision    recall  f1-score   support\n",
      "\n",
      "           0       0.82      0.78      0.80       622\n",
      "           1       0.79      0.83      0.81       632\n",
      "\n",
      "    accuracy                           0.80      1254\n",
      "   macro avg       0.80      0.80      0.80      1254\n",
      "weighted avg       0.80      0.80      0.80      1254\n",
      "\n"
     ]
    }
   ],
   "source": [
    "from sklearn.model_selection import train_test_split\n",
    "from sklearn.linear_model import LogisticRegression\n",
    "from sklearn.metrics import classification_report, confusion_matrix, precision_score, recall_score, accuracy_score\n",
    "\n",
    "# Create Logistic Regression model\n",
    "logreg = LogisticRegression()\n",
    "logreg.fit(x_train, y_train)\n",
    "\n",
    "y_pred = logreg.predict(x_test)\n",
    "\n",
    "# Confusion matrix\n",
    "cnf_matrix = confusion_matrix(y_test, y_pred)\n",
    "print(\"Confusion Matrix:\")\n",
    "print(cnf_matrix)\n",
    "\n",
    "# Other metrics\n",
    "precision = precision_score(y_test, y_pred)\n",
    "recall = recall_score(y_test, y_pred)\n",
    "accuracy = accuracy_score(y_test, y_pred)\n",
    "\n",
    "print(\"Precision:\", precision)\n",
    "print(\"Recall:\", recall)\n",
    "print(\"Accuracy:\", accuracy)\n",
    "\n",
    "print(classification_report(y_test, y_pred))"
   ]
  },
  {
   "cell_type": "markdown",
   "id": "7ba96a9b",
   "metadata": {
    "papermill": {
     "duration": 0.02519,
     "end_time": "2024-02-01T05:43:22.109917",
     "exception": false,
     "start_time": "2024-02-01T05:43:22.084727",
     "status": "completed"
    },
    "tags": []
   },
   "source": [
    "## Random Forest"
   ]
  },
  {
   "cell_type": "code",
   "execution_count": 16,
   "id": "0ab23959",
   "metadata": {
    "execution": {
     "iopub.execute_input": "2024-02-01T05:43:22.146659Z",
     "iopub.status.busy": "2024-02-01T05:43:22.146229Z",
     "iopub.status.idle": "2024-02-01T05:43:30.845225Z",
     "shell.execute_reply": "2024-02-01T05:43:30.843961Z"
    },
    "papermill": {
     "duration": 8.715058,
     "end_time": "2024-02-01T05:43:30.847929",
     "exception": false,
     "start_time": "2024-02-01T05:43:22.132871",
     "status": "completed"
    },
    "tags": []
   },
   "outputs": [
    {
     "name": "stdout",
     "output_type": "stream",
     "text": [
      "Confusion Matrix:\n",
      "[[501 121]\n",
      " [118 514]]\n",
      "Precision: 0.809409699679355\n",
      "Recall: 0.8094098883572568\n",
      "Accuracy: 0.8094098883572568\n",
      "              precision    recall  f1-score   support\n",
      "\n",
      "           0       0.81      0.81      0.81       622\n",
      "           1       0.81      0.81      0.81       632\n",
      "\n",
      "    accuracy                           0.81      1254\n",
      "   macro avg       0.81      0.81      0.81      1254\n",
      "weighted avg       0.81      0.81      0.81      1254\n",
      "\n",
      "Feature Importance:\n",
      "                    Feature  Importance\n",
      "4              CREDIT_SCORE    0.178555\n",
      "1        DRIVING_EXPERIENCE    0.152040\n",
      "9            ANNUAL_MILEAGE    0.100763\n",
      "0                       AGE    0.082149\n",
      "5         VEHICLE_OWNERSHIP    0.074477\n",
      "10      SPEEDING_VIOLATIONS    0.070797\n",
      "8               POSTAL_CODE    0.066575\n",
      "12           PAST_ACCIDENTS    0.065457\n",
      "3                    INCOME    0.062987\n",
      "2                 EDUCATION    0.037242\n",
      "6                   MARRIED    0.025537\n",
      "7                  CHILDREN    0.022877\n",
      "11                     DUIS    0.016581\n",
      "13            GENDER_female    0.016025\n",
      "14              GENDER_male    0.015513\n",
      "16  VEHICLE_TYPE_sports car    0.006224\n",
      "15       VEHICLE_TYPE_sedan    0.006199\n"
     ]
    },
    {
     "data": {
      "image/png": "[encoded data removed]",
      "text/plain": [
       "<Figure size 640x480 with 1 Axes>"
      ]
     },
     "metadata": {},
     "output_type": "display_data"
    }
   ],
   "source": [
    "from sklearn.ensemble import RandomForestClassifier\n",
    "\n",
    "rf_model = RandomForestClassifier(n_estimators=1000, random_state=42)\n",
    "\n",
    "rf_model.fit(x_train, y_train)\n",
    "rf_y_pred = rf_model.predict(x_test)\n",
    "\n",
    "# Confusion Matrix\n",
    "rf_cm = confusion_matrix(y_test, rf_y_pred)\n",
    "print(\"Confusion Matrix:\")\n",
    "print(rf_cm)\n",
    "\n",
    "# Other metrics\n",
    "rf_precision = precision_score(y_test, rf_y_pred, average='weighted')\n",
    "rf_recall = recall_score(y_test, rf_y_pred, average='weighted')\n",
    "rf_accuracy = accuracy_score(y_test, rf_y_pred)\n",
    "\n",
    "print(\"Precision:\", rf_precision)\n",
    "print(\"Recall:\", rf_recall)\n",
    "print(\"Accuracy:\", rf_accuracy)\n",
    "\n",
    "print(classification_report(y_test, rf_y_pred))\n",
    "\n",
    "# Variable importance\n",
    "rf_importances = rf_model.feature_importances_\n",
    "feature_names = x_train.columns\n",
    "\n",
    "# Create importance DataFrame\n",
    "rf_feature_importances = pd.DataFrame({'Feature': feature_names, 'Importance': rf_importances})\n",
    "rf_feature_importances = rf_feature_importances.sort_values(by='Importance', ascending=False)\n",
    "\n",
    "print(\"Feature Importance:\")\n",
    "print(rf_feature_importances)\n",
    "\n",
    "# Importance Plot\n",
    "indices = np.argsort(rf_importances)\n",
    "fig, ax = plt.subplots()\n",
    "ax.barh(range(len(rf_importances)), rf_importances[indices])\n",
    "ax.set_yticks(range(len(rf_importances)))\n",
    "_ = ax.set_yticklabels(np.array(feature_names)[indices])"
   ]
  },
  {
   "cell_type": "code",
   "execution_count": null,
   "id": "b877cd32",
   "metadata": {},
   "outputs": [],
   "source": []
  }
 ],
 "metadata": {
  "kaggle": {
   "accelerator": "none",
   "dataSources": [
    {
     "datasetId": 4383434,
     "sourceId": 7525549,
     "sourceType": "datasetVersion"
    }
   ],
   "isGpuEnabled": false,
   "isInternetEnabled": true,
   "language": "python",
   "sourceType": "notebook"
  },
  "kernelspec": {
   "display_name": "Python 3 (ipykernel)",
   "language": "python",
   "name": "python3"
  },
  "language_info": {
   "codemirror_mode": {
    "name": "ipython",
    "version": 3
   },
   "file_extension": ".py",
   "mimetype": "text/x-python",
   "name": "python",
   "nbconvert_exporter": "python",
   "pygments_lexer": "ipython3",
   "version": "3.11.5"
  },
  "papermill": {
   "default_parameters": {},
   "duration": 19.798111,
   "end_time": "2024-02-01T05:43:33.435156",
   "environment_variables": {},
   "exception": null,
   "input_path": "__notebook__.ipynb",
   "output_path": "__notebook__.ipynb",
   "parameters": {},
   "start_time": "2024-02-01T05:43:13.637045",
   "version": "2.5.0"
  }
 },
 "nbformat": 4,
 "nbformat_minor": 5
}
