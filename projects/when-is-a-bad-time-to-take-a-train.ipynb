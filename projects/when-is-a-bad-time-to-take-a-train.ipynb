{
 "cells": [
  {
   "cell_type": "code",
   "execution_count": 26,
   "metadata": {},
   "outputs": [
    {
     "name": "stdout",
     "output_type": "stream",
     "text": [
      " About the dataset\n",
      "\n",
      "SEPTA - Regional Rail\n",
      "Predict Arrival Times of Philadelphia's Regional Trains.\n",
      "\n",
      "SEPTA - Southeastern Pennsylvania Transportation Authority\n",
      "The SEPTA Regional Rail system consists of commuter rail service on 13 branches to more than 150 active stations in Philadelphia, Pennsylvania, and its suburbs and satellite cities.\n",
      "\n",
      "SEPTA uses On-Time Performance (OTP) to measure service reliability. OTP identifies the number of trains for all rail lines that arrive at their scheduled destination at the scheduled time. However, by industry standard, a train may arrive up to 5 minutes and 59 seconds after its scheduled time and still be considered on-time.\n",
      "\n",
      "SEPTA has established an annual goal of 91% for Regional Rail On-Time Performance. How well are they doing? Is it even a meaningful measure?\n"
     ]
    }
   ],
   "source": [
    "print(''' About the dataset\n",
    "\n",
    "SEPTA - Regional Rail\n",
    "Predict Arrival Times of Philadelphia's Regional Trains.\n",
    "\n",
    "SEPTA - Southeastern Pennsylvania Transportation Authority\n",
    "The SEPTA Regional Rail system consists of commuter rail service on 13 branches to more than 150 active stations in Philadelphia, Pennsylvania, and its suburbs and satellite cities.\n",
    "\n",
    "SEPTA uses On-Time Performance (OTP) to measure service reliability. OTP identifies the number of trains for all rail lines that arrive at their scheduled destination at the scheduled time. However, by industry standard, a train may arrive up to 5 minutes and 59 seconds after its scheduled time and still be considered on-time.\n",
    "\n",
    "SEPTA has established an annual goal of 91% for Regional Rail On-Time Performance. How well are they doing? Is it even a meaningful measure?''')"
   ]
  },
  {
   "cell_type": "code",
   "execution_count": 14,
   "metadata": {
    "_cell_guid": "7d624cef-f1e9-00c2-ab2e-27ad4813c081"
   },
   "outputs": [
    {
     "data": {
      "text/plain": [
       "<Figure size 1200x1000 with 0 Axes>"
      ]
     },
     "metadata": {},
     "output_type": "display_data"
    }
   ],
   "source": [
    "import numpy as np # linear algebra\n",
    "import pandas as pd # data processing, CSV file I/O (e.g. pd.read_csv)\n",
    "from sqlalchemy import create_engine\n",
    "import seaborn as sns\n",
    "import matplotlib.pyplot as plt\n",
    "# Impostare le dimensioni della figura con Matplotlib\n",
    "plt.figure(figsize=(12, 10))\n",
    "plt.rcParams['figure.figsize'] = (12, 10)"
   ]
  },
  {
   "cell_type": "code",
   "execution_count": 15,
   "metadata": {
    "_cell_guid": "84de4d53-5d0f-99f4-cbae-488b28fa16b3"
   },
   "outputs": [],
   "source": [
    "con = create_engine('sqlite:///database.sqlite')"
   ]
  },
  {
   "cell_type": "code",
   "execution_count": 16,
   "metadata": {
    "_cell_guid": "af8e2bd4-74fa-3dfa-f6a3-cf067a71043e"
   },
   "outputs": [
    {
     "data": {
      "text/html": [
       "<div>\n",
       "<style scoped>\n",
       "    .dataframe tbody tr th:only-of-type {\n",
       "        vertical-align: middle;\n",
       "    }\n",
       "\n",
       "    .dataframe tbody tr th {\n",
       "        vertical-align: top;\n",
       "    }\n",
       "\n",
       "    .dataframe thead th {\n",
       "        text-align: right;\n",
       "    }\n",
       "</style>\n",
       "<table border=\"1\" class=\"dataframe\">\n",
       "  <thead>\n",
       "    <tr style=\"text-align: right;\">\n",
       "      <th></th>\n",
       "      <th>train_id</th>\n",
       "      <th>direction</th>\n",
       "      <th>origin</th>\n",
       "      <th>next_station</th>\n",
       "      <th>date</th>\n",
       "      <th>status</th>\n",
       "      <th>timeStamp</th>\n",
       "    </tr>\n",
       "  </thead>\n",
       "  <tbody>\n",
       "    <tr>\n",
       "      <th>0</th>\n",
       "      <td>778</td>\n",
       "      <td>N</td>\n",
       "      <td>Trenton</td>\n",
       "      <td>Stenton</td>\n",
       "      <td>2016-03-23</td>\n",
       "      <td>1 min</td>\n",
       "      <td>2016-03-23 00:01:47</td>\n",
       "    </tr>\n",
       "    <tr>\n",
       "      <th>1</th>\n",
       "      <td>598</td>\n",
       "      <td>N</td>\n",
       "      <td>Thorndale</td>\n",
       "      <td>Narberth</td>\n",
       "      <td>2016-03-23</td>\n",
       "      <td>1 min</td>\n",
       "      <td>2016-03-23 00:01:58</td>\n",
       "    </tr>\n",
       "    <tr>\n",
       "      <th>2</th>\n",
       "      <td>279</td>\n",
       "      <td>S</td>\n",
       "      <td>Elm</td>\n",
       "      <td>Ridley Park</td>\n",
       "      <td>2016-03-23</td>\n",
       "      <td>2 min</td>\n",
       "      <td>2016-03-23 00:02:02</td>\n",
       "    </tr>\n",
       "    <tr>\n",
       "      <th>3</th>\n",
       "      <td>476</td>\n",
       "      <td>N</td>\n",
       "      <td>Airport Terminal E-F</td>\n",
       "      <td>Suburban Station</td>\n",
       "      <td>2016-03-23</td>\n",
       "      <td>On Time</td>\n",
       "      <td>2016-03-23 00:03:19</td>\n",
       "    </tr>\n",
       "    <tr>\n",
       "      <th>4</th>\n",
       "      <td>474</td>\n",
       "      <td>N</td>\n",
       "      <td>Airport Terminal E-F</td>\n",
       "      <td>Jenkintown-Wyncote</td>\n",
       "      <td>2016-03-23</td>\n",
       "      <td>On Time</td>\n",
       "      <td>2016-03-23 00:03:35</td>\n",
       "    </tr>\n",
       "  </tbody>\n",
       "</table>\n",
       "</div>"
      ],
      "text/plain": [
       "  train_id direction                origin        next_station        date  \\\n",
       "0      778         N               Trenton             Stenton  2016-03-23   \n",
       "1      598         N             Thorndale            Narberth  2016-03-23   \n",
       "2      279         S                   Elm         Ridley Park  2016-03-23   \n",
       "3      476         N  Airport Terminal E-F    Suburban Station  2016-03-23   \n",
       "4      474         N  Airport Terminal E-F  Jenkintown-Wyncote  2016-03-23   \n",
       "\n",
       "    status           timeStamp  \n",
       "0    1 min 2016-03-23 00:01:47  \n",
       "1    1 min 2016-03-23 00:01:58  \n",
       "2    2 min 2016-03-23 00:02:02  \n",
       "3  On Time 2016-03-23 00:03:19  \n",
       "4  On Time 2016-03-23 00:03:35  "
      ]
     },
     "execution_count": 16,
     "metadata": {},
     "output_type": "execute_result"
    }
   ],
   "source": [
    "df = pd.read_sql_table('otp', con)\n",
    "df.head()"
   ]
  },
  {
   "cell_type": "code",
   "execution_count": 17,
   "metadata": {
    "_cell_guid": "f06fe5bd-45b2-391c-83e5-07ae05f1e67c"
   },
   "outputs": [
    {
     "data": {
      "text/html": [
       "<div>\n",
       "<style scoped>\n",
       "    .dataframe tbody tr th:only-of-type {\n",
       "        vertical-align: middle;\n",
       "    }\n",
       "\n",
       "    .dataframe tbody tr th {\n",
       "        vertical-align: top;\n",
       "    }\n",
       "\n",
       "    .dataframe thead th {\n",
       "        text-align: right;\n",
       "    }\n",
       "</style>\n",
       "<table border=\"1\" class=\"dataframe\">\n",
       "  <thead>\n",
       "    <tr style=\"text-align: right;\">\n",
       "      <th></th>\n",
       "      <th>timeStamp</th>\n",
       "    </tr>\n",
       "  </thead>\n",
       "  <tbody>\n",
       "    <tr>\n",
       "      <th>count</th>\n",
       "      <td>1882015</td>\n",
       "    </tr>\n",
       "    <tr>\n",
       "      <th>mean</th>\n",
       "      <td>2016-07-12 04:51:28.591104768</td>\n",
       "    </tr>\n",
       "    <tr>\n",
       "      <th>min</th>\n",
       "      <td>2016-03-23 00:01:47</td>\n",
       "    </tr>\n",
       "    <tr>\n",
       "      <th>25%</th>\n",
       "      <td>2016-05-12 11:02:27.500000</td>\n",
       "    </tr>\n",
       "    <tr>\n",
       "      <th>50%</th>\n",
       "      <td>2016-07-03 13:56:16</td>\n",
       "    </tr>\n",
       "    <tr>\n",
       "      <th>75%</th>\n",
       "      <td>2016-09-12 11:34:19</td>\n",
       "    </tr>\n",
       "    <tr>\n",
       "      <th>max</th>\n",
       "      <td>2016-11-06 12:17:02</td>\n",
       "    </tr>\n",
       "  </tbody>\n",
       "</table>\n",
       "</div>"
      ],
      "text/plain": [
       "                           timeStamp\n",
       "count                        1882015\n",
       "mean   2016-07-12 04:51:28.591104768\n",
       "min              2016-03-23 00:01:47\n",
       "25%       2016-05-12 11:02:27.500000\n",
       "50%              2016-07-03 13:56:16\n",
       "75%              2016-09-12 11:34:19\n",
       "max              2016-11-06 12:17:02"
      ]
     },
     "execution_count": 17,
     "metadata": {},
     "output_type": "execute_result"
    }
   ],
   "source": [
    "df.describe()"
   ]
  },
  {
   "cell_type": "code",
   "execution_count": 18,
   "metadata": {
    "_cell_guid": "afdd98d4-8223-0c24-e4ed-4371ac9ad029"
   },
   "outputs": [
    {
     "data": {
      "text/plain": [
       "array(['1 min', '2 min', 'On Time', '3 min', '7 min', '4 min', '5 min',\n",
       "       '25 min', '11 min', '6 min', '999 min', '14 min', '13 min',\n",
       "       '15 min', '8 min', '9 min', '12 min', '16 min', '10 min', '21 min',\n",
       "       '17 min', '20 min', '18 min', '22 min', '19 min', '24 min',\n",
       "       '23 min', '29 min', '27 min', '28 min', '26 min', '33 min',\n",
       "       '42 min', '44 min', '46 min', '68 min', '31 min', '34 min',\n",
       "       '32 min', '30 min', '36 min', '35 min', '37 min', '39 min',\n",
       "       '40 min', '38 min', '116 min', '49 min', '48 min', '52 min',\n",
       "       '53 min', '54 min', '41 min', '50 min', '47 min', '43 min',\n",
       "       '55 min', '45 min', '51 min', '57 min', '56 min', '60 min',\n",
       "       '59 min', '62 min', '100 min', '58 min', '69 min', '67 min',\n",
       "       '75 min', '74 min', '61 min', '119 min', '71 min', '81 min',\n",
       "       '79 min', '78 min', '73 min', '77 min', '76 min', '63 min',\n",
       "       '64 min', '90 min', '85 min', '70 min', '72 min', '83 min',\n",
       "       '66 min', '65 min', '84 min', '82 min', '80 min', '89 min',\n",
       "       '124 min', '87 min', '88 min', '86 min', '91 min', '93 min',\n",
       "       '97 min', '1440 min', '107 min', '98 min', '99 min', '102 min',\n",
       "       '103 min', '104 min', '92 min', '95 min', '108 min', '500 min',\n",
       "       '118 min', '112 min', '114 min', '94 min', '161 min', '113 min',\n",
       "       '106 min', '132 min', '110 min', '105 min', '143 min', '204 min',\n",
       "       '163 min', '157 min', '244 min', '202 min', '267 min', '101 min',\n",
       "       '325 min', '109 min', '255 min', '128 min', '117 min', '211 min',\n",
       "       '130 min', '173 min', '191 min', '141 min', '193 min', '150 min',\n",
       "       '165 min', '122 min', '149 min', '120 min'], dtype=object)"
      ]
     },
     "execution_count": 18,
     "metadata": {},
     "output_type": "execute_result"
    }
   ],
   "source": [
    "df.status.unique()"
   ]
  },
  {
   "cell_type": "code",
   "execution_count": 19,
   "metadata": {
    "_cell_guid": "42b51d4d-5fe2-c9aa-f918-9868cc7a00c5"
   },
   "outputs": [
    {
     "data": {
      "text/html": [
       "<div>\n",
       "<style scoped>\n",
       "    .dataframe tbody tr th:only-of-type {\n",
       "        vertical-align: middle;\n",
       "    }\n",
       "\n",
       "    .dataframe tbody tr th {\n",
       "        vertical-align: top;\n",
       "    }\n",
       "\n",
       "    .dataframe thead th {\n",
       "        text-align: right;\n",
       "    }\n",
       "</style>\n",
       "<table border=\"1\" class=\"dataframe\">\n",
       "  <thead>\n",
       "    <tr style=\"text-align: right;\">\n",
       "      <th></th>\n",
       "      <th>train_id</th>\n",
       "      <th>direction</th>\n",
       "      <th>origin</th>\n",
       "      <th>next_station</th>\n",
       "      <th>date</th>\n",
       "      <th>status</th>\n",
       "      <th>timeStamp</th>\n",
       "    </tr>\n",
       "  </thead>\n",
       "  <tbody>\n",
       "    <tr>\n",
       "      <th>1034010</th>\n",
       "      <td>9744</td>\n",
       "      <td>N</td>\n",
       "      <td>Roberts Yard</td>\n",
       "      <td>Trenton</td>\n",
       "      <td>2016-07-24</td>\n",
       "      <td>1440 min</td>\n",
       "      <td>2016-07-24 03:10:13</td>\n",
       "    </tr>\n",
       "  </tbody>\n",
       "</table>\n",
       "</div>"
      ],
      "text/plain": [
       "        train_id direction        origin next_station        date    status  \\\n",
       "1034010     9744         N  Roberts Yard      Trenton  2016-07-24  1440 min   \n",
       "\n",
       "                  timeStamp  \n",
       "1034010 2016-07-24 03:10:13  "
      ]
     },
     "execution_count": 19,
     "metadata": {},
     "output_type": "execute_result"
    }
   ],
   "source": [
    "df[df.status==\"1440 min\"]"
   ]
  },
  {
   "cell_type": "markdown",
   "metadata": {
    "_cell_guid": "01bd8460-427c-821b-0321-58d1369049a3"
   },
   "source": [
    "It looks like, in addition to the 999 train suspended code, we have at least one train that is listed as 1440 minutes late (60 days!). It looks like that train should have just been suspended. We'll set that train to the suspended code and then convert the strings to numbers."
   ]
  },
  {
   "cell_type": "code",
   "execution_count": 20,
   "metadata": {
    "_cell_guid": "21366661-99f3-5b22-0dec-6896e0c806e1"
   },
   "outputs": [
    {
     "data": {
      "text/html": [
       "<div>\n",
       "<style scoped>\n",
       "    .dataframe tbody tr th:only-of-type {\n",
       "        vertical-align: middle;\n",
       "    }\n",
       "\n",
       "    .dataframe tbody tr th {\n",
       "        vertical-align: top;\n",
       "    }\n",
       "\n",
       "    .dataframe thead th {\n",
       "        text-align: right;\n",
       "    }\n",
       "</style>\n",
       "<table border=\"1\" class=\"dataframe\">\n",
       "  <thead>\n",
       "    <tr style=\"text-align: right;\">\n",
       "      <th></th>\n",
       "      <th>train_id</th>\n",
       "      <th>direction</th>\n",
       "      <th>origin</th>\n",
       "      <th>next_station</th>\n",
       "      <th>date</th>\n",
       "      <th>status</th>\n",
       "      <th>timeStamp</th>\n",
       "      <th>status_n</th>\n",
       "    </tr>\n",
       "  </thead>\n",
       "  <tbody>\n",
       "    <tr>\n",
       "      <th>0</th>\n",
       "      <td>778</td>\n",
       "      <td>N</td>\n",
       "      <td>Trenton</td>\n",
       "      <td>Stenton</td>\n",
       "      <td>2016-03-23</td>\n",
       "      <td>1 min</td>\n",
       "      <td>2016-03-23 00:01:47</td>\n",
       "      <td>1</td>\n",
       "    </tr>\n",
       "    <tr>\n",
       "      <th>1</th>\n",
       "      <td>598</td>\n",
       "      <td>N</td>\n",
       "      <td>Thorndale</td>\n",
       "      <td>Narberth</td>\n",
       "      <td>2016-03-23</td>\n",
       "      <td>1 min</td>\n",
       "      <td>2016-03-23 00:01:58</td>\n",
       "      <td>1</td>\n",
       "    </tr>\n",
       "    <tr>\n",
       "      <th>2</th>\n",
       "      <td>279</td>\n",
       "      <td>S</td>\n",
       "      <td>Elm</td>\n",
       "      <td>Ridley Park</td>\n",
       "      <td>2016-03-23</td>\n",
       "      <td>2 min</td>\n",
       "      <td>2016-03-23 00:02:02</td>\n",
       "      <td>2</td>\n",
       "    </tr>\n",
       "    <tr>\n",
       "      <th>3</th>\n",
       "      <td>476</td>\n",
       "      <td>N</td>\n",
       "      <td>Airport Terminal E-F</td>\n",
       "      <td>Suburban Station</td>\n",
       "      <td>2016-03-23</td>\n",
       "      <td>On Time</td>\n",
       "      <td>2016-03-23 00:03:19</td>\n",
       "      <td>0</td>\n",
       "    </tr>\n",
       "    <tr>\n",
       "      <th>4</th>\n",
       "      <td>474</td>\n",
       "      <td>N</td>\n",
       "      <td>Airport Terminal E-F</td>\n",
       "      <td>Jenkintown-Wyncote</td>\n",
       "      <td>2016-03-23</td>\n",
       "      <td>On Time</td>\n",
       "      <td>2016-03-23 00:03:35</td>\n",
       "      <td>0</td>\n",
       "    </tr>\n",
       "  </tbody>\n",
       "</table>\n",
       "</div>"
      ],
      "text/plain": [
       "  train_id direction                origin        next_station        date  \\\n",
       "0      778         N               Trenton             Stenton  2016-03-23   \n",
       "1      598         N             Thorndale            Narberth  2016-03-23   \n",
       "2      279         S                   Elm         Ridley Park  2016-03-23   \n",
       "3      476         N  Airport Terminal E-F    Suburban Station  2016-03-23   \n",
       "4      474         N  Airport Terminal E-F  Jenkintown-Wyncote  2016-03-23   \n",
       "\n",
       "    status           timeStamp  status_n  \n",
       "0    1 min 2016-03-23 00:01:47         1  \n",
       "1    1 min 2016-03-23 00:01:58         1  \n",
       "2    2 min 2016-03-23 00:02:02         2  \n",
       "3  On Time 2016-03-23 00:03:19         0  \n",
       "4  On Time 2016-03-23 00:03:35         0  "
      ]
     },
     "execution_count": 20,
     "metadata": {},
     "output_type": "execute_result"
    }
   ],
   "source": [
    "df.loc[df.status==\"1440 min\", \"status\"] = \"999 min\"\n",
    "df['status_n'] = df.status.str.replace(\"On Time\", \"0\").str.replace(\" min\",\"\").astype(\"int\")\n",
    "df.head()"
   ]
  },
  {
   "cell_type": "markdown",
   "metadata": {
    "_cell_guid": "42fe395d-ae5c-b69a-e858-42ea8682a028"
   },
   "source": [
    "Now let's take a look at the distribution, minus the suspended trains:"
   ]
  },
  {
   "cell_type": "code",
   "execution_count": 21,
   "metadata": {
    "_cell_guid": "a1956495-25c3-441b-da5e-76f42d580cbf"
   },
   "outputs": [
    {
     "data": {
      "image/png": "[encoded data removed]",
      "text/plain": [
       "<Figure size 1200x1000 with 1 Axes>"
      ]
     },
     "metadata": {},
     "output_type": "display_data"
    }
   ],
   "source": [
    "df[df.status_n!=999].status_n.hist(bins=100, log=True);"
   ]
  },
  {
   "cell_type": "markdown",
   "metadata": {
    "_cell_guid": "a662dcc7-d1db-88a8-6c99-d6da03d98003"
   },
   "source": [
    "And then the number of suspended trains:"
   ]
  },
  {
   "cell_type": "code",
   "execution_count": 22,
   "metadata": {
    "_cell_guid": "06eba359-9ea1-44f9-814d-7b6edef9be9a"
   },
   "outputs": [
    {
     "name": "stdout",
     "output_type": "stream",
     "text": [
      "Number of suspended trains: 700\n"
     ]
    }
   ],
   "source": [
    "print(\"Number of suspended trains:\", len(df[df.status_n==999]))"
   ]
  },
  {
   "cell_type": "markdown",
   "metadata": {
    "_cell_guid": "6f48841b-65b1-3f05-12b1-b75dad2ac0f2"
   },
   "source": [
    "How many trains are \"On time\" by the definition of less than 6 minutes late? This should give us our first clue into how SEPTA is doing."
   ]
  },
  {
   "cell_type": "code",
   "execution_count": 23,
   "metadata": {
    "_cell_guid": "d351de9e-f8f4-cc5d-8ba9-04b78f79b40f"
   },
   "outputs": [
    {
     "name": "stdout",
     "output_type": "stream",
     "text": [
      "On time trains: 1424297 Late trains: 457718 Percentage on time: 75.67936493598616\n"
     ]
    }
   ],
   "source": [
    "# On time trains:\n",
    "ot = df[df.status_n < 6]\n",
    "# Late trains:\n",
    "lt = df[df.status_n >= 6]\n",
    "print(\"On time trains:\", len(ot), \"Late trains:\", len(lt), \"Percentage on time:\", len(ot)/len(df)*100)"
   ]
  },
  {
   "cell_type": "markdown",
   "metadata": {
    "_cell_guid": "529d6ade-1353-b055-799f-e084c5f5fba4"
   },
   "source": [
    "It looks like SEPTA is at 81% for the spring, about 10% below the stated goal. Can we narrow down some of the problem areas? When do late trains generally occur? We can look at things in terms of a schedule, Day of week vs Time."
   ]
  },
  {
   "cell_type": "code",
   "execution_count": 30,
   "metadata": {
    "_cell_guid": "f8697f37-dce3-c5a1-6058-95e22fd8342b"
   },
   "outputs": [
    {
     "data": {
      "text/html": [
       "<div>\n",
       "<style scoped>\n",
       "    .dataframe tbody tr th:only-of-type {\n",
       "        vertical-align: middle;\n",
       "    }\n",
       "\n",
       "    .dataframe tbody tr th {\n",
       "        vertical-align: top;\n",
       "    }\n",
       "\n",
       "    .dataframe thead tr th {\n",
       "        text-align: left;\n",
       "    }\n",
       "\n",
       "    .dataframe thead tr:last-of-type th {\n",
       "        text-align: right;\n",
       "    }\n",
       "</style>\n",
       "<table border=\"1\" class=\"dataframe\">\n",
       "  <thead>\n",
       "    <tr>\n",
       "      <th></th>\n",
       "      <th colspan=\"7\" halign=\"left\">status_n</th>\n",
       "    </tr>\n",
       "    <tr>\n",
       "      <th>Day</th>\n",
       "      <th>0</th>\n",
       "      <th>1</th>\n",
       "      <th>2</th>\n",
       "      <th>3</th>\n",
       "      <th>4</th>\n",
       "      <th>5</th>\n",
       "      <th>6</th>\n",
       "    </tr>\n",
       "    <tr>\n",
       "      <th>Hour</th>\n",
       "      <th></th>\n",
       "      <th></th>\n",
       "      <th></th>\n",
       "      <th></th>\n",
       "      <th></th>\n",
       "      <th></th>\n",
       "      <th></th>\n",
       "    </tr>\n",
       "  </thead>\n",
       "  <tbody>\n",
       "    <tr>\n",
       "      <th>0</th>\n",
       "      <td>10980</td>\n",
       "      <td>14408</td>\n",
       "      <td>16517</td>\n",
       "      <td>15424</td>\n",
       "      <td>15244</td>\n",
       "      <td>23751</td>\n",
       "      <td>19923</td>\n",
       "    </tr>\n",
       "    <tr>\n",
       "      <th>1</th>\n",
       "      <td>1042</td>\n",
       "      <td>2133</td>\n",
       "      <td>2766</td>\n",
       "      <td>3333</td>\n",
       "      <td>2850</td>\n",
       "      <td>5439</td>\n",
       "      <td>6846</td>\n",
       "    </tr>\n",
       "    <tr>\n",
       "      <th>2</th>\n",
       "      <td>0</td>\n",
       "      <td>143</td>\n",
       "      <td>28</td>\n",
       "      <td>137</td>\n",
       "      <td>1395</td>\n",
       "      <td>768</td>\n",
       "      <td>1541</td>\n",
       "    </tr>\n",
       "    <tr>\n",
       "      <th>3</th>\n",
       "      <td>0</td>\n",
       "      <td>73</td>\n",
       "      <td>0</td>\n",
       "      <td>0</td>\n",
       "      <td>0</td>\n",
       "      <td>94</td>\n",
       "      <td>36</td>\n",
       "    </tr>\n",
       "    <tr>\n",
       "      <th>4</th>\n",
       "      <td>1494</td>\n",
       "      <td>1357</td>\n",
       "      <td>1438</td>\n",
       "      <td>1578</td>\n",
       "      <td>1377</td>\n",
       "      <td>748</td>\n",
       "      <td>1016</td>\n",
       "    </tr>\n",
       "  </tbody>\n",
       "</table>\n",
       "</div>"
      ],
      "text/plain": [
       "     status_n                                          \n",
       "Day         0      1      2      3      4      5      6\n",
       "Hour                                                   \n",
       "0       10980  14408  16517  15424  15244  23751  19923\n",
       "1        1042   2133   2766   3333   2850   5439   6846\n",
       "2           0    143     28    137   1395    768   1541\n",
       "3           0     73      0      0      0     94     36\n",
       "4        1494   1357   1438   1578   1377    748   1016"
      ]
     },
     "execution_count": 30,
     "metadata": {},
     "output_type": "execute_result"
    }
   ],
   "source": [
    "df['Day'] = df.timeStamp.dt.dayofweek\n",
    "df['Hour'] = df.timeStamp.dt.hour\n",
    "# Assicurati che 'status_n' contenga dati numerici\n",
    "df['status_n'] = pd.to_numeric(df['status_n'], errors='coerce')\n",
    "\n",
    "# Raggruppa e somma solo le colonne numeriche\n",
    "gb = df[df['status_n'].notna() & (df.status_n != 999)].groupby([\"Hour\", \"Day\"]).agg({'status_n': 'sum'}).unstack()\n",
    "gb.head()"
   ]
  },
  {
   "cell_type": "code",
   "execution_count": 31,
   "metadata": {
    "_cell_guid": "3cf42975-7373-0eaf-3d2e-502f92d564f4"
   },
   "outputs": [
    {
     "data": {
      "image/png": "[encoded data removed]",
      "text/plain": [
       "<Figure size 1200x1000 with 2 Axes>"
      ]
     },
     "metadata": {},
     "output_type": "display_data"
    }
   ],
   "source": [
    "sns.heatmap(gb,xticklabels=[\"Monday\", \"Tuesday\", \"Wednesday\", \"Thursday\", \"Friday\", \"Saturday\", \"Sunday\"]);"
   ]
  },
  {
   "cell_type": "markdown",
   "metadata": {
    "_cell_guid": "8c527bca-6978-89f6-d640-2a23374ec4f2"
   },
   "source": [
    "We can see that much of the lateness is generated during rush hour in the week, an expected result."
   ]
  },
  {
   "cell_type": "markdown",
   "metadata": {
    "_cell_guid": "c9d8d53a-187b-4c6f-2d80-5b60e688d943"
   },
   "source": [
    "These are the late trains but what are the real late trains, as defined by SEPTA? What is the distribution of trains > 5 minutes late?"
   ]
  },
  {
   "cell_type": "code",
   "execution_count": 33,
   "metadata": {
    "_cell_guid": "59ee2263-0a31-3f2a-c9c7-207ea4e840e0"
   },
   "outputs": [
    {
     "data": {
      "text/html": [
       "<div>\n",
       "<style scoped>\n",
       "    .dataframe tbody tr th:only-of-type {\n",
       "        vertical-align: middle;\n",
       "    }\n",
       "\n",
       "    .dataframe tbody tr th {\n",
       "        vertical-align: top;\n",
       "    }\n",
       "\n",
       "    .dataframe thead tr th {\n",
       "        text-align: left;\n",
       "    }\n",
       "\n",
       "    .dataframe thead tr:last-of-type th {\n",
       "        text-align: right;\n",
       "    }\n",
       "</style>\n",
       "<table border=\"1\" class=\"dataframe\">\n",
       "  <thead>\n",
       "    <tr>\n",
       "      <th></th>\n",
       "      <th colspan=\"7\" halign=\"left\">status_n</th>\n",
       "    </tr>\n",
       "    <tr>\n",
       "      <th>Day</th>\n",
       "      <th>0</th>\n",
       "      <th>1</th>\n",
       "      <th>2</th>\n",
       "      <th>3</th>\n",
       "      <th>4</th>\n",
       "      <th>5</th>\n",
       "      <th>6</th>\n",
       "    </tr>\n",
       "    <tr>\n",
       "      <th>Hour</th>\n",
       "      <th></th>\n",
       "      <th></th>\n",
       "      <th></th>\n",
       "      <th></th>\n",
       "      <th></th>\n",
       "      <th></th>\n",
       "      <th></th>\n",
       "    </tr>\n",
       "  </thead>\n",
       "  <tbody>\n",
       "    <tr>\n",
       "      <th>0</th>\n",
       "      <td>8092.0</td>\n",
       "      <td>10354.0</td>\n",
       "      <td>12456.0</td>\n",
       "      <td>11193.0</td>\n",
       "      <td>10876.0</td>\n",
       "      <td>18195.0</td>\n",
       "      <td>15169.0</td>\n",
       "    </tr>\n",
       "    <tr>\n",
       "      <th>1</th>\n",
       "      <td>934.0</td>\n",
       "      <td>1384.0</td>\n",
       "      <td>1983.0</td>\n",
       "      <td>2403.0</td>\n",
       "      <td>1961.0</td>\n",
       "      <td>4412.0</td>\n",
       "      <td>5106.0</td>\n",
       "    </tr>\n",
       "    <tr>\n",
       "      <th>2</th>\n",
       "      <td>NaN</td>\n",
       "      <td>143.0</td>\n",
       "      <td>28.0</td>\n",
       "      <td>137.0</td>\n",
       "      <td>1395.0</td>\n",
       "      <td>762.0</td>\n",
       "      <td>941.0</td>\n",
       "    </tr>\n",
       "    <tr>\n",
       "      <th>3</th>\n",
       "      <td>NaN</td>\n",
       "      <td>73.0</td>\n",
       "      <td>NaN</td>\n",
       "      <td>NaN</td>\n",
       "      <td>NaN</td>\n",
       "      <td>94.0</td>\n",
       "      <td>30.0</td>\n",
       "    </tr>\n",
       "    <tr>\n",
       "      <th>4</th>\n",
       "      <td>477.0</td>\n",
       "      <td>436.0</td>\n",
       "      <td>487.0</td>\n",
       "      <td>612.0</td>\n",
       "      <td>382.0</td>\n",
       "      <td>187.0</td>\n",
       "      <td>348.0</td>\n",
       "    </tr>\n",
       "  </tbody>\n",
       "</table>\n",
       "</div>"
      ],
      "text/plain": [
       "     status_n                                                      \n",
       "Day         0        1        2        3        4        5        6\n",
       "Hour                                                               \n",
       "0      8092.0  10354.0  12456.0  11193.0  10876.0  18195.0  15169.0\n",
       "1       934.0   1384.0   1983.0   2403.0   1961.0   4412.0   5106.0\n",
       "2         NaN    143.0     28.0    137.0   1395.0    762.0    941.0\n",
       "3         NaN     73.0      NaN      NaN      NaN     94.0     30.0\n",
       "4       477.0    436.0    487.0    612.0    382.0    187.0    348.0"
      ]
     },
     "execution_count": 33,
     "metadata": {},
     "output_type": "execute_result"
    }
   ],
   "source": [
    "lt = df[(df['status_n'] >= 6) & (df['status_n'].notna() & (df.status_n != 999))]\n",
    "gb2 = lt.groupby([\"Hour\", \"Day\"]).agg({'status_n': 'sum'}).unstack()\n",
    "\n",
    "\n",
    "gb2.head()"
   ]
  },
  {
   "cell_type": "code",
   "execution_count": 34,
   "metadata": {
    "_cell_guid": "dae039af-1378-2e3e-6c13-d3c43caa5861"
   },
   "outputs": [
    {
     "data": {
      "image/png": "[encoded data removed]",
      "text/plain": [
       "<Figure size 1200x1000 with 2 Axes>"
      ]
     },
     "metadata": {},
     "output_type": "display_data"
    }
   ],
   "source": [
    "sns.heatmap(gb2,xticklabels=[\"Monday\", \"Tuesday\", \"Wednesday\", \"Thursday\", \"Friday\", \"Saturday\", \"Sunday\"]);"
   ]
  },
  {
   "cell_type": "markdown",
   "metadata": {
    "_cell_guid": "8a92d878-f806-fa42-7faa-f231b5cb0947"
   },
   "source": [
    "Looks very similar. What is it about Tuesday morning rush hour anyways?"
   ]
  }
 ],
 "metadata": {
  "_change_revision": 119,
  "_is_fork": false,
  "kernelspec": {
   "display_name": "Python 3 (ipykernel)",
   "language": "python",
   "name": "python3"
  },
  "language_info": {
   "codemirror_mode": {
    "name": "ipython",
    "version": 3
   },
   "file_extension": ".py",
   "mimetype": "text/x-python",
   "name": "python",
   "nbconvert_exporter": "python",
   "pygments_lexer": "ipython3",
   "version": "3.11.5"
  }
 },
 "nbformat": 4,
 "nbformat_minor": 1
}
