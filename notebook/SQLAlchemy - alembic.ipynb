{
 "cells": [
  {
   "cell_type": "code",
   "execution_count": 4,
   "id": "5e5addce",
   "metadata": {},
   "outputs": [],
   "source": [
    "#Object Relational Mapper\n",
    "#A library that offers you an object interface to the data in your database\n",
    "#Layer of abstraction over the database: It means you don't have to write SQL code \n",
    "#or perform transactions with the database ORMs\n",
    "#Independently you're using PostgreSQL, MySQL, SQLite the code doesn't changes.\n",
    "#Object-Oriented Interface to the Data, based on classes that you define in your code\n",
    "#It permits to leveraging the benefits of OOP (Object Oriented Programming), \n",
    "#to reach those classes with additional properties and methods that can make it easier to work with your data \n",
    "\n",
    "#Alembic\n",
    "#Allows you to replicate in the database the schemas of the data that you have \n",
    "#defined in your code with sql alchemy models\n",
    "#The schemas in our database are an accurate reflection of the models in our code "
   ]
  },
  {
   "cell_type": "code",
   "execution_count": 5,
   "id": "6d9843bd",
   "metadata": {},
   "outputs": [
    {
     "name": "stdout",
     "output_type": "stream",
     "text": [
      "Requirement already satisfied: alembic in c:\\users\\giacomo\\appdata\\roaming\\python\\python311\\site-packages (1.13.1)Note: you may need to restart the kernel to use updated packages.\n",
      "\n",
      "Requirement already satisfied: sqlalchemy in c:\\users\\giacomo\\anaconda3\\lib\\site-packages (2.0.26)\n",
      "Requirement already satisfied: Mako in c:\\users\\giacomo\\anaconda3\\lib\\site-packages (from alembic) (1.3.2)\n",
      "Requirement already satisfied: typing-extensions>=4 in c:\\users\\giacomo\\anaconda3\\lib\\site-packages (from alembic) (4.7.1)\n",
      "Requirement already satisfied: greenlet!=0.4.17 in c:\\users\\giacomo\\anaconda3\\lib\\site-packages (from sqlalchemy) (2.0.1)\n",
      "Requirement already satisfied: MarkupSafe>=0.9.2 in c:\\users\\giacomo\\anaconda3\\lib\\site-packages (from Mako->alembic) (2.1.1)\n"
     ]
    }
   ],
   "source": [
    "pip install alembic sqlalchemy"
   ]
  },
  {
   "cell_type": "code",
   "execution_count": 3,
   "id": "8d544297",
   "metadata": {},
   "outputs": [],
   "source": [
    "from datetime import datetime\n",
    "from sqlalchemy import Column, Integer, String, CHAR, DateTime, create_engine, ForeignKey\n",
    "from sqlalchemy.orm import sessionmaker, declarative_base, relationship\n",
    "Base = declarative_base()\n",
    "engine = create_engine('sqlite:///models.db', pool_size=10, max_overflow=20)\n",
    "# Drop existing tables if they exist\n",
    "Base.metadata.drop_all(engine)"
   ]
  },
  {
   "cell_type": "code",
   "execution_count": 4,
   "id": "66a7bb3e",
   "metadata": {},
   "outputs": [],
   "source": [
    "class UserModel(Base):\n",
    "    __tablename__ = \"users\"\n",
    "\n",
    "    id = Column(\"id\", Integer, primary_key = True)\n",
    "    first_name = Column(\"firstname\", String, nullable = False)\n",
    "    last_name = Column(\"lastname\", String, nullable = False)\n",
    "    gender = Column(\"gender\", CHAR)\n",
    "    birth = Column(\"birth\", DateTime)\n",
    "    created= Column(\"created\", DateTime, default=datetime.utcnow)\n",
    "    things = relationship(\"Thing\", back_populates=\"user\", passive_deletes=True)\n",
    "    \n",
    "    @property\n",
    "    def full_name(self):\n",
    "        return f\"{self.first_name} {self.last_name}\"\n",
    "    \n",
    "    def __init__(self, first, last, gender, birth):\n",
    "        #self.id = id\n",
    "        self.first_name = first\n",
    "        self.last_name = last\n",
    "        self.gender = gender\n",
    "        self.birth = birth\n",
    "        #self.created = created\n",
    "\n",
    "    def __repr__(self):\n",
    "        return(\n",
    "            f\"UserModel(id={self.id}, first_name={self.first_name},\"\n",
    "            f\"last_name={self.last_name}, birth={self.birth},\"\n",
    "            f\"created={self.created}\"\n",
    "        )"
   ]
  },
  {
   "cell_type": "code",
   "execution_count": 5,
   "id": "b6f39c97",
   "metadata": {},
   "outputs": [],
   "source": [
    "class Thing(Base):\n",
    "    __tablename__ = \"things\"\n",
    "    __table_args__ = {\"extend_existing\": True}\n",
    "    \n",
    "    tid = Column(\"tid\", Integer, primary_key=True)\n",
    "    description = Column(\"description\", String)\n",
    "    owner = Column(Integer, ForeignKey(\"users.id\"))\n",
    "    \n",
    "    user = relationship(\"UserModel\", back_populates=\"things\")\n",
    "    def __init__(self, description, owner):\n",
    "        #self.tid = tid,\n",
    "        self.description = description\n",
    "        self.owner = owner\n",
    "        \n",
    "    def __repr__(self):\n",
    "        return f\"({self.tid}) {self.description} owned by {self.owner}\"\n"
   ]
  },
  {
   "cell_type": "code",
   "execution_count": 6,
   "id": "b8591a6f",
   "metadata": {},
   "outputs": [],
   "source": [
    "\n",
    "\n",
    "Base.metadata.create_all(engine)\n",
    "\n",
    "# Create a session\n",
    "Session = sessionmaker(bind=engine)\n",
    "session = Session()"
   ]
  },
  {
   "cell_type": "code",
   "execution_count": 7,
   "id": "0102349c",
   "metadata": {},
   "outputs": [],
   "source": [
    "users = [\n",
    "    UserModel(first=\"Giacomo\", last=\"Bonadiman\", gender='m', birth=datetime(1996, 8, 25)),\n",
    "    UserModel(first=\"Veronica\", last=\"Bonadiman\", gender='f', birth=datetime(1985, 9, 4)),\n",
    "    UserModel(first=\"Paola\", last=\"Valle\", gender='f', birth=datetime(1957, 11, 9))\n",
    "]\n",
    "\n",
    "# Esempio di inserimento dati\n",
    "for user in users:\n",
    "    session.add(user)\n",
    "\n",
    "session.commit()\n"
   ]
  },
  {
   "cell_type": "code",
   "execution_count": 8,
   "id": "36ede22d",
   "metadata": {},
   "outputs": [],
   "source": [
    "# Esempi di query\n",
    "users = session.query(UserModel).all()\n",
    "results = session.query(UserModel).filter(UserModel.last_name==\"Valle\")\n",
    "char_like = session.query(UserModel).filter(UserModel.first_name.like(\"%i%\"))\n",
    "part = session.query(UserModel).filter(UserModel.first_name.in_([\"Veronica\", \"Giacomo\"]))"
   ]
  },
  {
   "cell_type": "code",
   "execution_count": 9,
   "id": "e7316426",
   "metadata": {},
   "outputs": [],
   "source": [
    "things = [\n",
    "    Thing(description=\"CAR\", owner=users[0].full_name),\n",
    "    Thing(description=\"LAPTOP\", owner=users[0].full_name),\n",
    "    Thing(description=\"PS5\", owner=users[1].full_name),\n",
    "    Thing(description=\"TOOL\", owner=users[2].full_name),\n",
    "    Thing(description=\"BOOK\", owner=users[2].full_name)\n",
    "]\n",
    "\n",
    "# Esempio di inserimento dati\n",
    "for thing in things:\n",
    "    session.add(thing)\n",
    "\n",
    "session.commit()"
   ]
  },
  {
   "cell_type": "code",
   "execution_count": 10,
   "id": "bb173205",
   "metadata": {},
   "outputs": [
    {
     "name": "stdout",
     "output_type": "stream",
     "text": [
      "(1) CAR owned by 1\n",
      "(2) LAPTOP owned by 1\n",
      "(3) PS5 owned by 2\n",
      "(4) TOOL owned by 3\n",
      "(5) BOOK owned by 3\n",
      "(6) CAR owned by Giacomo Bonadiman\n",
      "(7) LAPTOP owned by 1\n",
      "(8) PS5 owned by 2\n",
      "(9) TOOL owned by 3\n",
      "(10) BOOK owned by 3\n",
      "(11) CAR owned by Giacomo Bonadiman\n",
      "(12) LAPTOP owned by Giacomo Bonadiman\n",
      "(13) PS5 owned by Veronica Bonadiman\n",
      "(14) TOOL owned by Paola Valle\n",
      "(15) BOOK owned by Paola Valle\n",
      "(16) CAR owned by Giacomo Bonadiman\n",
      "(17) LAPTOP owned by Giacomo Bonadiman\n",
      "(18) PS5 owned by Veronica Bonadiman\n",
      "(19) TOOL owned by Paola Valle\n",
      "(20) BOOK owned by Paola Valle\n"
     ]
    }
   ],
   "source": [
    "# Query things\n",
    "thing_records = session.query(Thing).all()\n",
    "results = session.query(Thing, UserModel).filter(Thing.owner == UserModel.id).filter(UserModel.first_name == \"Giacomo\").all()\n",
    "\n",
    "for thing in thing_records:\n",
    "    print(thing)"
   ]
  },
  {
   "cell_type": "code",
   "execution_count": 14,
   "id": "fe027938",
   "metadata": {},
   "outputs": [
    {
     "name": "stdout",
     "output_type": "stream",
     "text": [
      "Giacomo Bonadiman\n",
      "Veronica Bonadiman\n",
      "Paola Valle\n",
      "Giacomo Bonadiman\n",
      "Veronica Bonadiman\n",
      "Paola Valle\n"
     ]
    }
   ],
   "source": [
    "with Session() as session:\n",
    "    user_records = session.query(UserModel).all()\n",
    "    for user in user_records:\n",
    "        print(user.full_name)\n",
    "        \n"
   ]
  },
  {
   "cell_type": "code",
   "execution_count": 15,
   "id": "76ec2d8a",
   "metadata": {},
   "outputs": [
    {
     "name": "stdout",
     "output_type": "stream",
     "text": [
      "(1) CAR owned by 1\n",
      "(2) LAPTOP owned by 1\n",
      "(3) PS5 owned by 2\n",
      "(4) TOOL owned by 3\n",
      "(5) BOOK owned by 3\n",
      "(6) CAR owned by Giacomo Bonadiman\n",
      "(7) LAPTOP owned by 1\n",
      "(8) PS5 owned by 2\n",
      "(9) TOOL owned by 3\n",
      "(10) BOOK owned by 3\n",
      "(11) CAR owned by Giacomo Bonadiman\n",
      "(12) LAPTOP owned by Giacomo Bonadiman\n",
      "(13) PS5 owned by Veronica Bonadiman\n",
      "(14) TOOL owned by Paola Valle\n",
      "(15) BOOK owned by Paola Valle\n",
      "(16) CAR owned by Giacomo Bonadiman\n",
      "(17) LAPTOP owned by Giacomo Bonadiman\n",
      "(18) PS5 owned by Veronica Bonadiman\n",
      "(19) TOOL owned by Paola Valle\n",
      "(20) BOOK owned by Paola Valle\n"
     ]
    }
   ],
   "source": [
    "with Session() as session:\n",
    "    thing_records = session.query(Thing).all()\n",
    "    for thing in thing_records:\n",
    "        print(thing)"
   ]
  },
  {
   "cell_type": "code",
   "execution_count": null,
   "id": "9f7630db",
   "metadata": {},
   "outputs": [],
   "source": []
  }
 ],
 "metadata": {
  "kernelspec": {
   "display_name": "Python 3 (ipykernel)",
   "language": "python",
   "name": "python3"
  },
  "language_info": {
   "codemirror_mode": {
    "name": "ipython",
    "version": 3
   },
   "file_extension": ".py",
   "mimetype": "text/x-python",
   "name": "python",
   "nbconvert_exporter": "python",
   "pygments_lexer": "ipython3",
   "version": "3.11.5"
  }
 },
 "nbformat": 4,
 "nbformat_minor": 5
}
